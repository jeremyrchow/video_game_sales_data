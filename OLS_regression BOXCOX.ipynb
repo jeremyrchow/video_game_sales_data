{
 "cells": [
  {
   "cell_type": "code",
   "execution_count": 33,
   "metadata": {},
   "outputs": [],
   "source": [
    "import matplotlib.pyplot as plt\n",
    "import pandas as pd\n",
    "import numpy as np\n",
    "import seaborn as sns\n",
    "from dateutil import parser as ps\n",
    "import datetime as dt\n",
    "from workalendar.usa import UnitedStates\n",
    "from workalendar.asia import SouthKorea, China, Japan\n",
    "from sklearn.preprocessing import StandardScaler\n",
    "from sklearn.linear_model import LinearRegression\n",
    "from sklearn.model_selection import train_test_split\n",
    "import statsmodels.discrete.discrete_model as smd\n",
    "import statsmodels.api as sm\n",
    "import statsmodels.formula.api as smf\n",
    "import patsy\n",
    "import scipy.stats as stats"
   ]
  },
  {
   "cell_type": "code",
   "execution_count": 41,
   "metadata": {},
   "outputs": [],
   "source": [
    "df=pd.read_pickle('./df_with_features.zip',compression = 'zip')"
   ]
  },
  {
   "cell_type": "code",
   "execution_count": 42,
   "metadata": {},
   "outputs": [
    {
     "data": {
      "text/html": [
       "<div>\n",
       "<style scoped>\n",
       "    .dataframe tbody tr th:only-of-type {\n",
       "        vertical-align: middle;\n",
       "    }\n",
       "\n",
       "    .dataframe tbody tr th {\n",
       "        vertical-align: top;\n",
       "    }\n",
       "\n",
       "    .dataframe thead th {\n",
       "        text-align: right;\n",
       "    }\n",
       "</style>\n",
       "<table border=\"1\" class=\"dataframe\">\n",
       "  <thead>\n",
       "    <tr style=\"text-align: right;\">\n",
       "      <th></th>\n",
       "      <th>game</th>\n",
       "      <th>console</th>\n",
       "      <th>publisher</th>\n",
       "      <th>total_shipped_in_mil</th>\n",
       "      <th>release_date</th>\n",
       "      <th>average_rating</th>\n",
       "      <th>release_year</th>\n",
       "      <th>near_us_holiday</th>\n",
       "      <th>near_sk_holiday</th>\n",
       "      <th>near_jp_holiday</th>\n",
       "      <th>near_cn_holiday</th>\n",
       "      <th>years_since_release</th>\n",
       "      <th>top_10_publisher</th>\n",
       "    </tr>\n",
       "  </thead>\n",
       "  <tbody>\n",
       "    <tr>\n",
       "      <th>12973</th>\n",
       "      <td>Tom Clancy's Splinter Cell: Conviction</td>\n",
       "      <td>PC</td>\n",
       "      <td>Ubisoft</td>\n",
       "      <td>0.1</td>\n",
       "      <td>2010-04-27</td>\n",
       "      <td>8.0</td>\n",
       "      <td>2010</td>\n",
       "      <td>False</td>\n",
       "      <td>False</td>\n",
       "      <td>True</td>\n",
       "      <td>True</td>\n",
       "      <td>8.978082</td>\n",
       "      <td>False</td>\n",
       "    </tr>\n",
       "    <tr>\n",
       "      <th>13019</th>\n",
       "      <td>Blue Dragon: Awakened Shadow</td>\n",
       "      <td>DS</td>\n",
       "      <td>D3 Publisher</td>\n",
       "      <td>0.1</td>\n",
       "      <td>2010-05-18</td>\n",
       "      <td>5.7</td>\n",
       "      <td>2010</td>\n",
       "      <td>False</td>\n",
       "      <td>True</td>\n",
       "      <td>False</td>\n",
       "      <td>False</td>\n",
       "      <td>8.920548</td>\n",
       "      <td>False</td>\n",
       "    </tr>\n",
       "    <tr>\n",
       "      <th>13103</th>\n",
       "      <td>America's Next Top Model</td>\n",
       "      <td>DS</td>\n",
       "      <td>Conspiracy Entertainment</td>\n",
       "      <td>0.1</td>\n",
       "      <td>2010-06-01</td>\n",
       "      <td>3.5</td>\n",
       "      <td>2010</td>\n",
       "      <td>False</td>\n",
       "      <td>False</td>\n",
       "      <td>False</td>\n",
       "      <td>False</td>\n",
       "      <td>8.882192</td>\n",
       "      <td>False</td>\n",
       "    </tr>\n",
       "    <tr>\n",
       "      <th>13123</th>\n",
       "      <td>Disgaea Infinite</td>\n",
       "      <td>PSP</td>\n",
       "      <td>NIS America</td>\n",
       "      <td>0.1</td>\n",
       "      <td>2010-06-08</td>\n",
       "      <td>6.8</td>\n",
       "      <td>2010</td>\n",
       "      <td>False</td>\n",
       "      <td>False</td>\n",
       "      <td>False</td>\n",
       "      <td>False</td>\n",
       "      <td>8.863014</td>\n",
       "      <td>False</td>\n",
       "    </tr>\n",
       "    <tr>\n",
       "      <th>9572</th>\n",
       "      <td>Blast Works: Build, Trade, Destroy</td>\n",
       "      <td>Wii</td>\n",
       "      <td>Majesco</td>\n",
       "      <td>0.1</td>\n",
       "      <td>2008-06-11</td>\n",
       "      <td>8.2</td>\n",
       "      <td>2008</td>\n",
       "      <td>False</td>\n",
       "      <td>False</td>\n",
       "      <td>False</td>\n",
       "      <td>False</td>\n",
       "      <td>10.854795</td>\n",
       "      <td>False</td>\n",
       "    </tr>\n",
       "  </tbody>\n",
       "</table>\n",
       "</div>"
      ],
      "text/plain": [
       "                                         game console  \\\n",
       "12973  Tom Clancy's Splinter Cell: Conviction      PC   \n",
       "13019            Blue Dragon: Awakened Shadow      DS   \n",
       "13103                America's Next Top Model      DS   \n",
       "13123                        Disgaea Infinite     PSP   \n",
       "9572       Blast Works: Build, Trade, Destroy     Wii   \n",
       "\n",
       "                      publisher  total_shipped_in_mil release_date  \\\n",
       "12973                   Ubisoft                   0.1   2010-04-27   \n",
       "13019              D3 Publisher                   0.1   2010-05-18   \n",
       "13103  Conspiracy Entertainment                   0.1   2010-06-01   \n",
       "13123               NIS America                   0.1   2010-06-08   \n",
       "9572                    Majesco                   0.1   2008-06-11   \n",
       "\n",
       "       average_rating  release_year  near_us_holiday  near_sk_holiday  \\\n",
       "12973             8.0          2010            False            False   \n",
       "13019             5.7          2010            False             True   \n",
       "13103             3.5          2010            False            False   \n",
       "13123             6.8          2010            False            False   \n",
       "9572              8.2          2008            False            False   \n",
       "\n",
       "       near_jp_holiday  near_cn_holiday  years_since_release  top_10_publisher  \n",
       "12973             True             True             8.978082             False  \n",
       "13019            False            False             8.920548             False  \n",
       "13103            False            False             8.882192             False  \n",
       "13123            False            False             8.863014             False  \n",
       "9572             False            False            10.854795             False  "
      ]
     },
     "execution_count": 42,
     "metadata": {},
     "output_type": "execute_result"
    }
   ],
   "source": [
    "df.head()"
   ]
  },
  {
   "cell_type": "code",
   "execution_count": 56,
   "metadata": {
    "scrolled": false
   },
   "outputs": [
    {
     "data": {
      "text/plain": [
       "(4000, 8)"
      ]
     },
     "execution_count": 56,
     "metadata": {},
     "output_type": "execute_result"
    }
   ],
   "source": [
    "df_features = df.drop(columns = ['release_date','release_year','game','console','publisher'])\n",
    "\n",
    "# Selects first column on left as the targeted and all columns on right as features\n",
    "def patsy_string_from_df(df_features):\n",
    "    patsy_string = df_features.columns[0] + \" ~ \"\n",
    "    print('Predicted variable: ' + df_features.columns[0])\n",
    "    for title in df_features.columns[1:]:\n",
    "        patsy_string += title + \" + \"\n",
    "    #remove last plus and spaces from string\n",
    "    patsy_string=patsy_string[:-3]\n",
    "    print(\"Patsy String: \" +patsy_string)\n",
    "    return patsy_string\n",
    "\n",
    "#Uses above patsy string to make OLS model\n",
    "def sm_OLS_model(df_features):\n",
    "    # Takes in dataframe and makes model using first column as target and rest as features.\n",
    "    y, X = patsy.dmatrices(patsy_string_from_df(df_features), data=df_features, return_type=\"dataframe\")\n",
    "    model = sm.OLS(y, X)\n",
    "\n",
    "    # Fit your model to your training set\n",
    "    fit = model.fit()\n",
    "    return fit\n",
    "\n",
    "# It looks like release date proximity to holidays doesn't really have an impact on total sales. Let's drop those\n",
    "#f_features.drop(columns = ['near_sk_holiday','near_jp_holiday','near_cn_holiday'],inplace = True)\n",
    "df_features.shape"
   ]
  },
  {
   "cell_type": "code",
   "execution_count": 57,
   "metadata": {},
   "outputs": [
    {
     "name": "stdout",
     "output_type": "stream",
     "text": [
      "Predicted variable: total_shipped_in_mil\n",
      "Patsy String: total_shipped_in_mil ~ average_rating + near_us_holiday + near_sk_holiday + near_jp_holiday + near_cn_holiday + years_since_release + top_10_publisher\n"
     ]
    },
    {
     "data": {
      "text/html": [
       "<table class=\"simpletable\">\n",
       "<caption>OLS Regression Results</caption>\n",
       "<tr>\n",
       "  <th>Dep. Variable:</th>    <td>total_shipped_in_mil</td> <th>  R-squared:         </th> <td>   0.102</td>\n",
       "</tr>\n",
       "<tr>\n",
       "  <th>Model:</th>                     <td>OLS</td>         <th>  Adj. R-squared:    </th> <td>   0.100</td>\n",
       "</tr>\n",
       "<tr>\n",
       "  <th>Method:</th>               <td>Least Squares</td>    <th>  F-statistic:       </th> <td>   51.28</td>\n",
       "</tr>\n",
       "<tr>\n",
       "  <th>Date:</th>               <td>Thu, 18 Apr 2019</td>   <th>  Prob (F-statistic):</th> <td>1.49e-69</td>\n",
       "</tr>\n",
       "<tr>\n",
       "  <th>Time:</th>                   <td>14:57:41</td>       <th>  Log-Likelihood:    </th> <td> -1310.8</td>\n",
       "</tr>\n",
       "<tr>\n",
       "  <th>No. Observations:</th>        <td>  3172</td>        <th>  AIC:               </th> <td>   2638.</td>\n",
       "</tr>\n",
       "<tr>\n",
       "  <th>Df Residuals:</th>            <td>  3164</td>        <th>  BIC:               </th> <td>   2686.</td>\n",
       "</tr>\n",
       "<tr>\n",
       "  <th>Df Model:</th>                <td>     7</td>        <th>                     </th>     <td> </td>   \n",
       "</tr>\n",
       "<tr>\n",
       "  <th>Covariance Type:</th>        <td>nonrobust</td>      <th>                     </th>     <td> </td>   \n",
       "</tr>\n",
       "</table>\n",
       "<table class=\"simpletable\">\n",
       "<tr>\n",
       "              <td></td>                <th>coef</th>     <th>std err</th>      <th>t</th>      <th>P>|t|</th>  <th>[0.025</th>    <th>0.975]</th>  \n",
       "</tr>\n",
       "<tr>\n",
       "  <th>Intercept</th>                <td>   -0.0537</td> <td>    0.039</td> <td>   -1.377</td> <td> 0.169</td> <td>   -0.130</td> <td>    0.023</td>\n",
       "</tr>\n",
       "<tr>\n",
       "  <th>near_us_holiday[T.True]</th>  <td>    0.0450</td> <td>    0.025</td> <td>    1.793</td> <td> 0.073</td> <td>   -0.004</td> <td>    0.094</td>\n",
       "</tr>\n",
       "<tr>\n",
       "  <th>near_sk_holiday[T.True]</th>  <td>   -0.0256</td> <td>    0.021</td> <td>   -1.228</td> <td> 0.220</td> <td>   -0.067</td> <td>    0.015</td>\n",
       "</tr>\n",
       "<tr>\n",
       "  <th>near_jp_holiday[T.True]</th>  <td>   -0.0079</td> <td>    0.019</td> <td>   -0.418</td> <td> 0.676</td> <td>   -0.045</td> <td>    0.029</td>\n",
       "</tr>\n",
       "<tr>\n",
       "  <th>near_cn_holiday[T.True]</th>  <td>    0.0211</td> <td>    0.021</td> <td>    1.018</td> <td> 0.309</td> <td>   -0.020</td> <td>    0.062</td>\n",
       "</tr>\n",
       "<tr>\n",
       "  <th>top_10_publisher[T.True]</th> <td>    0.1150</td> <td>    0.013</td> <td>    8.610</td> <td> 0.000</td> <td>    0.089</td> <td>    0.141</td>\n",
       "</tr>\n",
       "<tr>\n",
       "  <th>average_rating</th>           <td>    0.0772</td> <td>    0.005</td> <td>   15.670</td> <td> 0.000</td> <td>    0.068</td> <td>    0.087</td>\n",
       "</tr>\n",
       "<tr>\n",
       "  <th>years_since_release</th>      <td>   -0.0021</td> <td>    0.001</td> <td>   -1.541</td> <td> 0.123</td> <td>   -0.005</td> <td>    0.001</td>\n",
       "</tr>\n",
       "</table>\n",
       "<table class=\"simpletable\">\n",
       "<tr>\n",
       "  <th>Omnibus:</th>       <td>356.196</td> <th>  Durbin-Watson:     </th> <td>   0.201</td> \n",
       "</tr>\n",
       "<tr>\n",
       "  <th>Prob(Omnibus):</th> <td> 0.000</td>  <th>  Jarque-Bera (JB):  </th> <td> 485.890</td> \n",
       "</tr>\n",
       "<tr>\n",
       "  <th>Skew:</th>          <td> 0.952</td>  <th>  Prob(JB):          </th> <td>3.09e-106</td>\n",
       "</tr>\n",
       "<tr>\n",
       "  <th>Kurtosis:</th>      <td> 3.219</td>  <th>  Cond. No.          </th> <td>    84.1</td> \n",
       "</tr>\n",
       "</table><br/><br/>Warnings:<br/>[1] Standard Errors assume that the covariance matrix of the errors is correctly specified."
      ],
      "text/plain": [
       "<class 'statsmodels.iolib.summary.Summary'>\n",
       "\"\"\"\n",
       "                             OLS Regression Results                             \n",
       "================================================================================\n",
       "Dep. Variable:     total_shipped_in_mil   R-squared:                       0.102\n",
       "Model:                              OLS   Adj. R-squared:                  0.100\n",
       "Method:                   Least Squares   F-statistic:                     51.28\n",
       "Date:                  Thu, 18 Apr 2019   Prob (F-statistic):           1.49e-69\n",
       "Time:                          14:57:41   Log-Likelihood:                -1310.8\n",
       "No. Observations:                  3172   AIC:                             2638.\n",
       "Df Residuals:                      3164   BIC:                             2686.\n",
       "Df Model:                             7                                         \n",
       "Covariance Type:              nonrobust                                         \n",
       "============================================================================================\n",
       "                               coef    std err          t      P>|t|      [0.025      0.975]\n",
       "--------------------------------------------------------------------------------------------\n",
       "Intercept                   -0.0537      0.039     -1.377      0.169      -0.130       0.023\n",
       "near_us_holiday[T.True]      0.0450      0.025      1.793      0.073      -0.004       0.094\n",
       "near_sk_holiday[T.True]     -0.0256      0.021     -1.228      0.220      -0.067       0.015\n",
       "near_jp_holiday[T.True]     -0.0079      0.019     -0.418      0.676      -0.045       0.029\n",
       "near_cn_holiday[T.True]      0.0211      0.021      1.018      0.309      -0.020       0.062\n",
       "top_10_publisher[T.True]     0.1150      0.013      8.610      0.000       0.089       0.141\n",
       "average_rating               0.0772      0.005     15.670      0.000       0.068       0.087\n",
       "years_since_release         -0.0021      0.001     -1.541      0.123      -0.005       0.001\n",
       "==============================================================================\n",
       "Omnibus:                      356.196   Durbin-Watson:                   0.201\n",
       "Prob(Omnibus):                  0.000   Jarque-Bera (JB):              485.890\n",
       "Skew:                           0.952   Prob(JB):                    3.09e-106\n",
       "Kurtosis:                       3.219   Cond. No.                         84.1\n",
       "==============================================================================\n",
       "\n",
       "Warnings:\n",
       "[1] Standard Errors assume that the covariance matrix of the errors is correctly specified.\n",
       "\"\"\""
      ]
     },
     "execution_count": 57,
     "metadata": {},
     "output_type": "execute_result"
    }
   ],
   "source": [
    "\n",
    "# Drop outliers above 95%\n",
    "outlier_cutoff = np.percentile(df_features['total_shipped_in_mil'],95)\n",
    "outlier_cutoff = stats.iqr(df_features['total_shipped_in_mil'])*1.5\n",
    "df_features =\\\n",
    "df_features.loc[df_features['total_shipped_in_mil'] < outlier_cutoff]\n",
    "\n",
    "# No transformations model\n",
    "fit1=sm_OLS_model(df_features)\n",
    "fit1.summary()"
   ]
  },
  {
   "cell_type": "code",
   "execution_count": 58,
   "metadata": {},
   "outputs": [
    {
     "data": {
      "text/plain": [
       "Index(['total_shipped_in_mil', 'average_rating', 'near_us_holiday',\n",
       "       'near_sk_holiday', 'near_jp_holiday', 'near_cn_holiday',\n",
       "       'years_since_release', 'top_10_publisher'],\n",
       "      dtype='object')"
      ]
     },
     "execution_count": 58,
     "metadata": {},
     "output_type": "execute_result"
    }
   ],
   "source": [
    "df_features.columns"
   ]
  },
  {
   "cell_type": "code",
   "execution_count": 59,
   "metadata": {},
   "outputs": [
    {
     "data": {
      "image/png": "[encoded data removed]",
      "text/plain": [
       "<Figure size 432x288 with 1 Axes>"
      ]
     },
     "metadata": {
      "needs_background": "light"
     },
     "output_type": "display_data"
    }
   ],
   "source": [
    "plt.hist(df_features['average_rating'])\n",
    "plt.title('Average Rating Histogram');"
   ]
  },
  {
   "cell_type": "code",
   "execution_count": 60,
   "metadata": {},
   "outputs": [
    {
     "data": {
      "image/png": "[encoded data removed]",
      "text/plain": [
       "<Figure size 432x288 with 1 Axes>"
      ]
     },
     "metadata": {
      "needs_background": "light"
     },
     "output_type": "display_data"
    }
   ],
   "source": [
    "plt.hist(df_features['years_since_release'])\n",
    "plt.title('Years since release histogram');"
   ]
  },
  {
   "cell_type": "code",
   "execution_count": 61,
   "metadata": {},
   "outputs": [
    {
     "name": "stdout",
     "output_type": "stream",
     "text": [
      "Lambda: 0.032122136911742795\n"
     ]
    },
    {
     "data": {
      "image/png": "[encoded data removed]",
      "text/plain": [
       "<Figure size 1080x576 with 1 Axes>"
      ]
     },
     "metadata": {
      "needs_background": "light"
     },
     "output_type": "display_data"
    }
   ],
   "source": [
    "# Calculate scaling power using lambda\n",
    "lamb=stats.boxcox_normmax(df_features['total_shipped_in_mil'],\\\n",
    "                          brack=(-1.9, 1.9)) # don't use \"lambda\" as it's a Python reserved word\n",
    "print(\"Lambda:\", lamb)\n",
    "y_t=(np.power(df_features['total_shipped_in_mil'],lamb)-1)/lamb\n",
    "\n",
    "\n",
    "plt.figure(figsize=(15,8))\n",
    "plt.xlabel(\"Sales transformed using Boxcox with lambda of: \" + str(lamb.round(5)))\n",
    "plt.ylabel(\"Counts\")\n",
    "plt.title('Boxcox histogram of sales');\n",
    "plt.hist(y_t,bins = 50);"
   ]
  },
  {
   "cell_type": "code",
   "execution_count": 62,
   "metadata": {},
   "outputs": [
    {
     "data": {
      "text/plain": [
       "(array([1027.,  567.,  398.,  318.,  223.,  180.,  168.,  106.,   93.,\n",
       "          92.]),\n",
       " array([0.1  , 0.251, 0.402, 0.553, 0.704, 0.855, 1.006, 1.157, 1.308,\n",
       "        1.459, 1.61 ]),\n",
       " <a list of 10 Patch objects>)"
      ]
     },
     "execution_count": 62,
     "metadata": {},
     "output_type": "execute_result"
    },
    {
     "data": {
      "image/png": "[encoded data removed]",
      "text/plain": [
       "<Figure size 432x288 with 1 Axes>"
      ]
     },
     "metadata": {
      "needs_background": "light"
     },
     "output_type": "display_data"
    }
   ],
   "source": [
    "plt.hist(df_features['total_shipped_in_mil'])"
   ]
  },
  {
   "cell_type": "code",
   "execution_count": 63,
   "metadata": {},
   "outputs": [],
   "source": [
    "\n",
    "# OLS model\n",
    "df_features.insert(0,'total_shipped_in_mil_boxcox',y_t)\n",
    "df_boxcox = df_features.drop(columns = 'total_shipped_in_mil')"
   ]
  },
  {
   "cell_type": "code",
   "execution_count": 64,
   "metadata": {
    "scrolled": true
   },
   "outputs": [
    {
     "data": {
      "text/html": [
       "<div>\n",
       "<style scoped>\n",
       "    .dataframe tbody tr th:only-of-type {\n",
       "        vertical-align: middle;\n",
       "    }\n",
       "\n",
       "    .dataframe tbody tr th {\n",
       "        vertical-align: top;\n",
       "    }\n",
       "\n",
       "    .dataframe thead th {\n",
       "        text-align: right;\n",
       "    }\n",
       "</style>\n",
       "<table border=\"1\" class=\"dataframe\">\n",
       "  <thead>\n",
       "    <tr style=\"text-align: right;\">\n",
       "      <th></th>\n",
       "      <th>total_shipped_in_mil_boxcox</th>\n",
       "      <th>average_rating</th>\n",
       "      <th>near_us_holiday</th>\n",
       "      <th>near_sk_holiday</th>\n",
       "      <th>near_jp_holiday</th>\n",
       "      <th>near_cn_holiday</th>\n",
       "      <th>years_since_release</th>\n",
       "      <th>top_10_publisher</th>\n",
       "    </tr>\n",
       "  </thead>\n",
       "  <tbody>\n",
       "    <tr>\n",
       "      <th>12973</th>\n",
       "      <td>-2.219492</td>\n",
       "      <td>8.0</td>\n",
       "      <td>False</td>\n",
       "      <td>False</td>\n",
       "      <td>True</td>\n",
       "      <td>True</td>\n",
       "      <td>8.978082</td>\n",
       "      <td>False</td>\n",
       "    </tr>\n",
       "    <tr>\n",
       "      <th>13019</th>\n",
       "      <td>-2.219492</td>\n",
       "      <td>5.7</td>\n",
       "      <td>False</td>\n",
       "      <td>True</td>\n",
       "      <td>False</td>\n",
       "      <td>False</td>\n",
       "      <td>8.920548</td>\n",
       "      <td>False</td>\n",
       "    </tr>\n",
       "    <tr>\n",
       "      <th>13103</th>\n",
       "      <td>-2.219492</td>\n",
       "      <td>3.5</td>\n",
       "      <td>False</td>\n",
       "      <td>False</td>\n",
       "      <td>False</td>\n",
       "      <td>False</td>\n",
       "      <td>8.882192</td>\n",
       "      <td>False</td>\n",
       "    </tr>\n",
       "    <tr>\n",
       "      <th>13123</th>\n",
       "      <td>-2.219492</td>\n",
       "      <td>6.8</td>\n",
       "      <td>False</td>\n",
       "      <td>False</td>\n",
       "      <td>False</td>\n",
       "      <td>False</td>\n",
       "      <td>8.863014</td>\n",
       "      <td>False</td>\n",
       "    </tr>\n",
       "    <tr>\n",
       "      <th>9572</th>\n",
       "      <td>-2.219492</td>\n",
       "      <td>8.2</td>\n",
       "      <td>False</td>\n",
       "      <td>False</td>\n",
       "      <td>False</td>\n",
       "      <td>False</td>\n",
       "      <td>10.854795</td>\n",
       "      <td>False</td>\n",
       "    </tr>\n",
       "  </tbody>\n",
       "</table>\n",
       "</div>"
      ],
      "text/plain": [
       "       total_shipped_in_mil_boxcox  average_rating  near_us_holiday  \\\n",
       "12973                    -2.219492             8.0            False   \n",
       "13019                    -2.219492             5.7            False   \n",
       "13103                    -2.219492             3.5            False   \n",
       "13123                    -2.219492             6.8            False   \n",
       "9572                     -2.219492             8.2            False   \n",
       "\n",
       "       near_sk_holiday  near_jp_holiday  near_cn_holiday  years_since_release  \\\n",
       "12973            False             True             True             8.978082   \n",
       "13019             True            False            False             8.920548   \n",
       "13103            False            False            False             8.882192   \n",
       "13123            False            False            False             8.863014   \n",
       "9572             False            False            False            10.854795   \n",
       "\n",
       "       top_10_publisher  \n",
       "12973             False  \n",
       "13019             False  \n",
       "13103             False  \n",
       "13123             False  \n",
       "9572              False  "
      ]
     },
     "execution_count": 64,
     "metadata": {},
     "output_type": "execute_result"
    }
   ],
   "source": [
    "df_boxcox.head()"
   ]
  },
  {
   "cell_type": "code",
   "execution_count": 65,
   "metadata": {},
   "outputs": [
    {
     "name": "stdout",
     "output_type": "stream",
     "text": [
      "Predicted variable: total_shipped_in_mil_boxcox\n",
      "Patsy String: total_shipped_in_mil_boxcox ~ average_rating + near_us_holiday + near_sk_holiday + near_jp_holiday + near_cn_holiday + years_since_release + top_10_publisher\n"
     ]
    },
    {
     "data": {
      "text/html": [
       "<table class=\"simpletable\">\n",
       "<caption>OLS Regression Results</caption>\n",
       "<tr>\n",
       "  <th>Dep. Variable:</th>    <td>total_shipped_in_mil_boxcox</td> <th>  R-squared:         </th> <td>   0.119</td>\n",
       "</tr>\n",
       "<tr>\n",
       "  <th>Model:</th>                        <td>OLS</td>             <th>  Adj. R-squared:    </th> <td>   0.117</td>\n",
       "</tr>\n",
       "<tr>\n",
       "  <th>Method:</th>                  <td>Least Squares</td>        <th>  F-statistic:       </th> <td>   61.09</td>\n",
       "</tr>\n",
       "<tr>\n",
       "  <th>Date:</th>                  <td>Thu, 18 Apr 2019</td>       <th>  Prob (F-statistic):</th> <td>1.19e-82</td>\n",
       "</tr>\n",
       "<tr>\n",
       "  <th>Time:</th>                      <td>14:57:45</td>           <th>  Log-Likelihood:    </th> <td> -3374.5</td>\n",
       "</tr>\n",
       "<tr>\n",
       "  <th>No. Observations:</th>           <td>  3172</td>            <th>  AIC:               </th> <td>   6765.</td>\n",
       "</tr>\n",
       "<tr>\n",
       "  <th>Df Residuals:</th>               <td>  3164</td>            <th>  BIC:               </th> <td>   6814.</td>\n",
       "</tr>\n",
       "<tr>\n",
       "  <th>Df Model:</th>                   <td>     7</td>            <th>                     </th>     <td> </td>   \n",
       "</tr>\n",
       "<tr>\n",
       "  <th>Covariance Type:</th>           <td>nonrobust</td>          <th>                     </th>     <td> </td>   \n",
       "</tr>\n",
       "</table>\n",
       "<table class=\"simpletable\">\n",
       "<tr>\n",
       "              <td></td>                <th>coef</th>     <th>std err</th>      <th>t</th>      <th>P>|t|</th>  <th>[0.025</th>    <th>0.975]</th>  \n",
       "</tr>\n",
       "<tr>\n",
       "  <th>Intercept</th>                <td>   -2.0604</td> <td>    0.075</td> <td>  -27.545</td> <td> 0.000</td> <td>   -2.207</td> <td>   -1.914</td>\n",
       "</tr>\n",
       "<tr>\n",
       "  <th>near_us_holiday[T.True]</th>  <td>    0.0873</td> <td>    0.048</td> <td>    1.817</td> <td> 0.069</td> <td>   -0.007</td> <td>    0.182</td>\n",
       "</tr>\n",
       "<tr>\n",
       "  <th>near_sk_holiday[T.True]</th>  <td>   -0.0356</td> <td>    0.040</td> <td>   -0.890</td> <td> 0.374</td> <td>   -0.114</td> <td>    0.043</td>\n",
       "</tr>\n",
       "<tr>\n",
       "  <th>near_jp_holiday[T.True]</th>  <td>   -0.0306</td> <td>    0.036</td> <td>   -0.848</td> <td> 0.397</td> <td>   -0.101</td> <td>    0.040</td>\n",
       "</tr>\n",
       "<tr>\n",
       "  <th>near_cn_holiday[T.True]</th>  <td>    0.0325</td> <td>    0.040</td> <td>    0.818</td> <td> 0.413</td> <td>   -0.045</td> <td>    0.110</td>\n",
       "</tr>\n",
       "<tr>\n",
       "  <th>top_10_publisher[T.True]</th> <td>    0.2593</td> <td>    0.026</td> <td>   10.126</td> <td> 0.000</td> <td>    0.209</td> <td>    0.310</td>\n",
       "</tr>\n",
       "<tr>\n",
       "  <th>average_rating</th>           <td>    0.1566</td> <td>    0.009</td> <td>   16.585</td> <td> 0.000</td> <td>    0.138</td> <td>    0.175</td>\n",
       "</tr>\n",
       "<tr>\n",
       "  <th>years_since_release</th>      <td>   -0.0064</td> <td>    0.003</td> <td>   -2.435</td> <td> 0.015</td> <td>   -0.012</td> <td>   -0.001</td>\n",
       "</tr>\n",
       "</table>\n",
       "<table class=\"simpletable\">\n",
       "<tr>\n",
       "  <th>Omnibus:</th>       <td>294.994</td> <th>  Durbin-Watson:     </th> <td>   0.239</td>\n",
       "</tr>\n",
       "<tr>\n",
       "  <th>Prob(Omnibus):</th> <td> 0.000</td>  <th>  Jarque-Bera (JB):  </th> <td>  89.554</td>\n",
       "</tr>\n",
       "<tr>\n",
       "  <th>Skew:</th>          <td> 0.023</td>  <th>  Prob(JB):          </th> <td>3.58e-20</td>\n",
       "</tr>\n",
       "<tr>\n",
       "  <th>Kurtosis:</th>      <td> 2.178</td>  <th>  Cond. No.          </th> <td>    84.1</td>\n",
       "</tr>\n",
       "</table><br/><br/>Warnings:<br/>[1] Standard Errors assume that the covariance matrix of the errors is correctly specified."
      ],
      "text/plain": [
       "<class 'statsmodels.iolib.summary.Summary'>\n",
       "\"\"\"\n",
       "                                 OLS Regression Results                                \n",
       "=======================================================================================\n",
       "Dep. Variable:     total_shipped_in_mil_boxcox   R-squared:                       0.119\n",
       "Model:                                     OLS   Adj. R-squared:                  0.117\n",
       "Method:                          Least Squares   F-statistic:                     61.09\n",
       "Date:                         Thu, 18 Apr 2019   Prob (F-statistic):           1.19e-82\n",
       "Time:                                 14:57:45   Log-Likelihood:                -3374.5\n",
       "No. Observations:                         3172   AIC:                             6765.\n",
       "Df Residuals:                             3164   BIC:                             6814.\n",
       "Df Model:                                    7                                         \n",
       "Covariance Type:                     nonrobust                                         \n",
       "============================================================================================\n",
       "                               coef    std err          t      P>|t|      [0.025      0.975]\n",
       "--------------------------------------------------------------------------------------------\n",
       "Intercept                   -2.0604      0.075    -27.545      0.000      -2.207      -1.914\n",
       "near_us_holiday[T.True]      0.0873      0.048      1.817      0.069      -0.007       0.182\n",
       "near_sk_holiday[T.True]     -0.0356      0.040     -0.890      0.374      -0.114       0.043\n",
       "near_jp_holiday[T.True]     -0.0306      0.036     -0.848      0.397      -0.101       0.040\n",
       "near_cn_holiday[T.True]      0.0325      0.040      0.818      0.413      -0.045       0.110\n",
       "top_10_publisher[T.True]     0.2593      0.026     10.126      0.000       0.209       0.310\n",
       "average_rating               0.1566      0.009     16.585      0.000       0.138       0.175\n",
       "years_since_release         -0.0064      0.003     -2.435      0.015      -0.012      -0.001\n",
       "==============================================================================\n",
       "Omnibus:                      294.994   Durbin-Watson:                   0.239\n",
       "Prob(Omnibus):                  0.000   Jarque-Bera (JB):               89.554\n",
       "Skew:                           0.023   Prob(JB):                     3.58e-20\n",
       "Kurtosis:                       2.178   Cond. No.                         84.1\n",
       "==============================================================================\n",
       "\n",
       "Warnings:\n",
       "[1] Standard Errors assume that the covariance matrix of the errors is correctly specified.\n",
       "\"\"\""
      ]
     },
     "execution_count": 65,
     "metadata": {},
     "output_type": "execute_result"
    }
   ],
   "source": [
    "boxcox_fit = sm_OLS_model(df_boxcox)\n",
    "boxcox_fit.summary()"
   ]
  },
  {
   "cell_type": "code",
   "execution_count": null,
   "metadata": {},
   "outputs": [],
   "source": []
  },
  {
   "cell_type": "code",
   "execution_count": 66,
   "metadata": {},
   "outputs": [
    {
     "data": {
      "text/html": [
       "<div>\n",
       "<style scoped>\n",
       "    .dataframe tbody tr th:only-of-type {\n",
       "        vertical-align: middle;\n",
       "    }\n",
       "\n",
       "    .dataframe tbody tr th {\n",
       "        vertical-align: top;\n",
       "    }\n",
       "\n",
       "    .dataframe thead th {\n",
       "        text-align: right;\n",
       "    }\n",
       "</style>\n",
       "<table border=\"1\" class=\"dataframe\">\n",
       "  <thead>\n",
       "    <tr style=\"text-align: right;\">\n",
       "      <th></th>\n",
       "      <th>total_shipped_in_mil</th>\n",
       "      <th>average_rating</th>\n",
       "      <th>near_us_holiday</th>\n",
       "      <th>near_sk_holiday</th>\n",
       "      <th>near_jp_holiday</th>\n",
       "      <th>near_cn_holiday</th>\n",
       "      <th>years_since_release</th>\n",
       "      <th>top_10_publisher</th>\n",
       "    </tr>\n",
       "  </thead>\n",
       "  <tbody>\n",
       "    <tr>\n",
       "      <th>12973</th>\n",
       "      <td>0.1</td>\n",
       "      <td>8.0</td>\n",
       "      <td>False</td>\n",
       "      <td>False</td>\n",
       "      <td>True</td>\n",
       "      <td>True</td>\n",
       "      <td>8.978082</td>\n",
       "      <td>False</td>\n",
       "    </tr>\n",
       "    <tr>\n",
       "      <th>13019</th>\n",
       "      <td>0.1</td>\n",
       "      <td>5.7</td>\n",
       "      <td>False</td>\n",
       "      <td>True</td>\n",
       "      <td>False</td>\n",
       "      <td>False</td>\n",
       "      <td>8.920548</td>\n",
       "      <td>False</td>\n",
       "    </tr>\n",
       "    <tr>\n",
       "      <th>13103</th>\n",
       "      <td>0.1</td>\n",
       "      <td>3.5</td>\n",
       "      <td>False</td>\n",
       "      <td>False</td>\n",
       "      <td>False</td>\n",
       "      <td>False</td>\n",
       "      <td>8.882192</td>\n",
       "      <td>False</td>\n",
       "    </tr>\n",
       "    <tr>\n",
       "      <th>13123</th>\n",
       "      <td>0.1</td>\n",
       "      <td>6.8</td>\n",
       "      <td>False</td>\n",
       "      <td>False</td>\n",
       "      <td>False</td>\n",
       "      <td>False</td>\n",
       "      <td>8.863014</td>\n",
       "      <td>False</td>\n",
       "    </tr>\n",
       "    <tr>\n",
       "      <th>9572</th>\n",
       "      <td>0.1</td>\n",
       "      <td>8.2</td>\n",
       "      <td>False</td>\n",
       "      <td>False</td>\n",
       "      <td>False</td>\n",
       "      <td>False</td>\n",
       "      <td>10.854795</td>\n",
       "      <td>False</td>\n",
       "    </tr>\n",
       "  </tbody>\n",
       "</table>\n",
       "</div>"
      ],
      "text/plain": [
       "       total_shipped_in_mil  average_rating  near_us_holiday  near_sk_holiday  \\\n",
       "12973                   0.1             8.0            False            False   \n",
       "13019                   0.1             5.7            False             True   \n",
       "13103                   0.1             3.5            False            False   \n",
       "13123                   0.1             6.8            False            False   \n",
       "9572                    0.1             8.2            False            False   \n",
       "\n",
       "       near_jp_holiday  near_cn_holiday  years_since_release  top_10_publisher  \n",
       "12973             True             True             8.978082             False  \n",
       "13019            False            False             8.920548             False  \n",
       "13103            False            False             8.882192             False  \n",
       "13123            False            False             8.863014             False  \n",
       "9572             False            False            10.854795             False  "
      ]
     },
     "execution_count": 66,
     "metadata": {},
     "output_type": "execute_result"
    }
   ],
   "source": [
    "df_features.iloc[:,1:].head()"
   ]
  },
  {
   "cell_type": "code",
   "execution_count": 67,
   "metadata": {},
   "outputs": [
    {
     "data": {
      "text/html": [
       "<div>\n",
       "<style scoped>\n",
       "    .dataframe tbody tr th:only-of-type {\n",
       "        vertical-align: middle;\n",
       "    }\n",
       "\n",
       "    .dataframe tbody tr th {\n",
       "        vertical-align: top;\n",
       "    }\n",
       "\n",
       "    .dataframe thead th {\n",
       "        text-align: right;\n",
       "    }\n",
       "</style>\n",
       "<table border=\"1\" class=\"dataframe\">\n",
       "  <thead>\n",
       "    <tr style=\"text-align: right;\">\n",
       "      <th></th>\n",
       "      <th>total_shipped_in_mil_boxcox</th>\n",
       "      <th>average_rating</th>\n",
       "      <th>near_us_holiday</th>\n",
       "      <th>near_sk_holiday</th>\n",
       "      <th>near_jp_holiday</th>\n",
       "      <th>near_cn_holiday</th>\n",
       "      <th>years_since_release</th>\n",
       "      <th>top_10_publisher</th>\n",
       "    </tr>\n",
       "  </thead>\n",
       "  <tbody>\n",
       "    <tr>\n",
       "      <th>12973</th>\n",
       "      <td>-2.219492</td>\n",
       "      <td>8.0</td>\n",
       "      <td>False</td>\n",
       "      <td>False</td>\n",
       "      <td>True</td>\n",
       "      <td>True</td>\n",
       "      <td>8.978082</td>\n",
       "      <td>False</td>\n",
       "    </tr>\n",
       "    <tr>\n",
       "      <th>13019</th>\n",
       "      <td>-2.219492</td>\n",
       "      <td>5.7</td>\n",
       "      <td>False</td>\n",
       "      <td>True</td>\n",
       "      <td>False</td>\n",
       "      <td>False</td>\n",
       "      <td>8.920548</td>\n",
       "      <td>False</td>\n",
       "    </tr>\n",
       "    <tr>\n",
       "      <th>13103</th>\n",
       "      <td>-2.219492</td>\n",
       "      <td>3.5</td>\n",
       "      <td>False</td>\n",
       "      <td>False</td>\n",
       "      <td>False</td>\n",
       "      <td>False</td>\n",
       "      <td>8.882192</td>\n",
       "      <td>False</td>\n",
       "    </tr>\n",
       "    <tr>\n",
       "      <th>13123</th>\n",
       "      <td>-2.219492</td>\n",
       "      <td>6.8</td>\n",
       "      <td>False</td>\n",
       "      <td>False</td>\n",
       "      <td>False</td>\n",
       "      <td>False</td>\n",
       "      <td>8.863014</td>\n",
       "      <td>False</td>\n",
       "    </tr>\n",
       "    <tr>\n",
       "      <th>9572</th>\n",
       "      <td>-2.219492</td>\n",
       "      <td>8.2</td>\n",
       "      <td>False</td>\n",
       "      <td>False</td>\n",
       "      <td>False</td>\n",
       "      <td>False</td>\n",
       "      <td>10.854795</td>\n",
       "      <td>False</td>\n",
       "    </tr>\n",
       "  </tbody>\n",
       "</table>\n",
       "</div>"
      ],
      "text/plain": [
       "       total_shipped_in_mil_boxcox  average_rating  near_us_holiday  \\\n",
       "12973                    -2.219492             8.0            False   \n",
       "13019                    -2.219492             5.7            False   \n",
       "13103                    -2.219492             3.5            False   \n",
       "13123                    -2.219492             6.8            False   \n",
       "9572                     -2.219492             8.2            False   \n",
       "\n",
       "       near_sk_holiday  near_jp_holiday  near_cn_holiday  years_since_release  \\\n",
       "12973            False             True             True             8.978082   \n",
       "13019             True            False            False             8.920548   \n",
       "13103            False            False            False             8.882192   \n",
       "13123            False            False            False             8.863014   \n",
       "9572             False            False            False            10.854795   \n",
       "\n",
       "       top_10_publisher  \n",
       "12973             False  \n",
       "13019             False  \n",
       "13103             False  \n",
       "13123             False  \n",
       "9572              False  "
      ]
     },
     "execution_count": 67,
     "metadata": {},
     "output_type": "execute_result"
    }
   ],
   "source": [
    "df_boxcox.head()"
   ]
  },
  {
   "cell_type": "code",
   "execution_count": 68,
   "metadata": {},
   "outputs": [
    {
     "name": "stdout",
     "output_type": "stream",
     "text": [
      "RMSE:  2.000363648184507\n",
      "MAE:  1.7914240418739502\n",
      "RMSE / max_val:  1.2425\n",
      "MAE / max_val:  1.1127\n"
     ]
    },
    {
     "data": {
      "text/plain": [
       "Text(0.5, 0, 'test')"
      ]
     },
     "execution_count": 68,
     "metadata": {},
     "output_type": "execute_result"
    },
    {
     "data": {
      "image/png": "[encoded data removed]",
      "text/plain": [
       "<Figure size 432x288 with 1 Axes>"
      ]
     },
     "metadata": {
      "needs_background": "light"
     },
     "output_type": "display_data"
    }
   ],
   "source": [
    "# Calculate root mean squared error\n",
    "def transform_resids_back_to_correct_units(residual,lamb):\n",
    "    return (lamb * residual + 1) ** (1/lamb)\n",
    "    \n",
    "#ypred = boxcox_fit.predict(df_boxcox.iloc[:,1:])\n",
    "ypred = boxcox_fit.predict()\n",
    "yval = df_boxcox['total_shipped_in_mil_boxcox'].values\n",
    "\n",
    "\n",
    "\n",
    "residuals_squared = list()\n",
    "residuals_abs = list()\n",
    "residuals = list()\n",
    "for i in range(0,len(yval)):\n",
    "    residuals.append(ypred[i]-yval[i])\n",
    "    residuals_squared.append((ypred[i]-yval[i])**2)\n",
    "    residuals_abs.append(abs(ypred[i] - yval [i]))\n",
    "\n",
    "rmse = transform_resids_back_to_correct_units(np.sqrt(sum(residuals_squared)/len(yval)),lamb)\n",
    "mae = transform_resids_back_to_correct_units(sum(residuals_abs)/len(yval),lamb)\n",
    "\n",
    "print(\"RMSE: \",rmse)\n",
    "print(\"MAE: \",mae) \n",
    "\n",
    "\n",
    "max_val = df_features['total_shipped_in_mil'].max()\n",
    "print(\"RMSE / max_val: \" ,(rmse/max_val).round(4))\n",
    "print(\"MAE / max_val: \",(mae/max_val).round(4))\n",
    "plt.scatter(yval,residuals)\n"
   ]
  },
  {
   "cell_type": "code",
   "execution_count": null,
   "metadata": {},
   "outputs": [],
   "source": []
  },
  {
   "cell_type": "code",
   "execution_count": null,
   "metadata": {},
   "outputs": [],
   "source": []
  }
 ],
 "metadata": {
  "kernelspec": {
   "display_name": "Python 3",
   "language": "python",
   "name": "python3"
  },
  "language_info": {
   "codemirror_mode": {
    "name": "ipython",
    "version": 3
   },
   "file_extension": ".py",
   "mimetype": "text/x-python",
   "name": "python",
   "nbconvert_exporter": "python",
   "pygments_lexer": "ipython3",
   "version": "3.7.3"
  }
 },
 "nbformat": 4,
 "nbformat_minor": 2
}
