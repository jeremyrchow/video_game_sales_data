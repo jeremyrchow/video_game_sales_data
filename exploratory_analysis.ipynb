{
 "cells": [
  {
   "cell_type": "markdown",
   "metadata": {},
   "source": [
    "# Exploratory Data Analysis of VGChartz.com Video Game Sales Data"
   ]
  },
  {
   "cell_type": "markdown",
   "metadata": {},
   "source": [
    "## Features to look into:\n",
    "- Proximity of release date to holiday\n",
    "- Day of week of release date\n",
    "- price of console\n",
    "- price of game\n",
    "- whether developer is in top 5 or not\n",
    "- location of developer\n",
    "- number of years the game has been released\n",
    "## Things to note/do\n",
    "- make sure to remove data of games that were included with console ie. WII SPORTS"
   ]
  },
  {
   "cell_type": "code",
   "execution_count": 1,
   "metadata": {},
   "outputs": [],
   "source": [
    "# if needed: pip install requests or conda install requests\n",
    "import requests\n",
    "from bs4 import BeautifulSoup\n",
    "import re\n",
    "import lxml.html as lh\n",
    "import pandas as pd"
   ]
  },
  {
   "cell_type": "code",
   "execution_count": 14,
   "metadata": {},
   "outputs": [
    {
     "data": {
      "text/plain": [
       "200"
      ]
     },
     "execution_count": 14,
     "metadata": {},
     "output_type": "execute_result"
    }
   ],
   "source": [
    "# Ping one page of search results in VGChartz.com\n",
    "url = 'http://www.vgchartz.com/games/games.php?page=1&results=10000&name=&console=&keyword=&publisher=&genre=&order=Sales&ownership=Both&boxart=Both&banner=Both&showdeleted=&region=All&goty_year=&developer=&direction=DESC&showtotalsales=1&shownasales=1&showpalsales=1&showjapansales=1&showothersales=1&showpublisher=1&showdeveloper=1&showreleasedate=1&showlastupdate=1&showvgchartzscore=1&showcriticscore=1&showuserscore=1&showshipped=1&alphasort=&showmultiplat=No'\n",
    "\n",
    "response = requests.get(url)\n",
    "\n",
    "### Check the Status\n",
    "response.status_code # status code = 200 => OK"
   ]
  },
  {
   "cell_type": "code",
   "execution_count": 15,
   "metadata": {},
   "outputs": [],
   "source": [
    "#Store the contents of the website under doc\n",
    "page=response.text\n",
    "soup = BeautifulSoup(page, \"lxml\")\n",
    "doc = lh.fromstring(response.content)"
   ]
  },
  {
   "cell_type": "code",
   "execution_count": 16,
   "metadata": {},
   "outputs": [],
   "source": [
    "# Selects the table with all the data in it on HTML using xpath\n",
    "tr_elements = doc.xpath('//*[@id=\"generalBody\"]/table')[0]\n"
   ]
  },
  {
   "cell_type": "code",
   "execution_count": 17,
   "metadata": {},
   "outputs": [
    {
     "data": {
      "text/plain": [
       "[2, 1, 16, 17, 17, 17, 17, 17, 17, 17, 17, 17, 17, 17, 17]"
      ]
     },
     "execution_count": 17,
     "metadata": {},
     "output_type": "execute_result"
    }
   ],
   "source": [
    "# Check where the table begins, it appears to be on index 2\n",
    "[len(T) for T in tr_elements[:15]]"
   ]
  },
  {
   "cell_type": "code",
   "execution_count": 18,
   "metadata": {
    "scrolled": false
   },
   "outputs": [
    {
     "data": {
      "text/plain": [
       "10003"
      ]
     },
     "execution_count": 18,
     "metadata": {},
     "output_type": "execute_result"
    }
   ],
   "source": [
    "# Verify we selected the table with the correct number of rows\n",
    "len(tr_elements.xpath(\"./tr\"))"
   ]
  },
  {
   "cell_type": "code",
   "execution_count": 19,
   "metadata": {},
   "outputs": [],
   "source": [
    "# Find the names of games from the links\n",
    "names_list = list()\n",
    "for row in tr_elements.xpath('.//tr'):\n",
    "    for td in row.xpath('.//td'):\n",
    "        if not td.find('a') is None:\n",
    "            names_list.append(td.find('a').text.strip()) "
   ]
  },
  {
   "cell_type": "code",
   "execution_count": 20,
   "metadata": {},
   "outputs": [],
   "source": [
    "# Parse non-image and non-URL info from the data table to a pandas DataFrame\n",
    "row_dict={}\n",
    "df=pd.DataFrame()\n",
    "row_list= list()\n",
    "for counter,row in enumerate(tr_elements.xpath(\".//tr\")):\n",
    "    if counter > 2:\n",
    "        row_list=[td.text for td in row.xpath(\".//td\")]\n",
    "        row_dict[counter] = row_list\n",
    "# Test finding elements\n",
    "\n",
    "df=pd.DataFrame.from_dict(row_dict).transpose()\n",
    "df.columns = ['position','game','blank','console','publisher','developer','vgchart_score',\\\n",
    "             'critic_score','user_score','total_shipped','total_sales',\\\n",
    "              'na_sales','pal_sales','japan_sales','other_sales',\\\n",
    "              'release_date','last_update']"
   ]
  },
  {
   "cell_type": "code",
   "execution_count": 21,
   "metadata": {},
   "outputs": [],
   "source": [
    "# Console tags are stored as images, so we find the image tag and record it\n",
    "consoles = list()\n",
    "for img in soup.find_all('img'):\n",
    "    if 'images/consoles'in img['src']:\n",
    "        console_tag = (img['src'][17:-6])\n",
    "        consoles.append(img['alt'])\n"
   ]
  },
  {
   "cell_type": "code",
   "execution_count": 22,
   "metadata": {},
   "outputs": [],
   "source": [
    "# Correct the console and game columns using scraped values\n",
    "df=df.reset_index().drop(columns = 'index')\n",
    "df['console'] = consoles\n",
    "df['game'] = names_list"
   ]
  },
  {
   "cell_type": "code",
   "execution_count": 23,
   "metadata": {},
   "outputs": [
    {
     "data": {
      "text/html": [
       "<div>\n",
       "<style scoped>\n",
       "    .dataframe tbody tr th:only-of-type {\n",
       "        vertical-align: middle;\n",
       "    }\n",
       "\n",
       "    .dataframe tbody tr th {\n",
       "        vertical-align: top;\n",
       "    }\n",
       "\n",
       "    .dataframe thead th {\n",
       "        text-align: right;\n",
       "    }\n",
       "</style>\n",
       "<table border=\"1\" class=\"dataframe\">\n",
       "  <thead>\n",
       "    <tr style=\"text-align: right;\">\n",
       "      <th></th>\n",
       "      <th>position</th>\n",
       "      <th>game</th>\n",
       "      <th>blank</th>\n",
       "      <th>console</th>\n",
       "      <th>publisher</th>\n",
       "      <th>developer</th>\n",
       "      <th>vgchart_score</th>\n",
       "      <th>critic_score</th>\n",
       "      <th>user_score</th>\n",
       "      <th>total_shipped</th>\n",
       "      <th>total_sales</th>\n",
       "      <th>na_sales</th>\n",
       "      <th>pal_sales</th>\n",
       "      <th>japan_sales</th>\n",
       "      <th>other_sales</th>\n",
       "      <th>release_date</th>\n",
       "      <th>last_update</th>\n",
       "    </tr>\n",
       "  </thead>\n",
       "  <tbody>\n",
       "    <tr>\n",
       "      <th>0</th>\n",
       "      <td>1</td>\n",
       "      <td>Wii Sports</td>\n",
       "      <td></td>\n",
       "      <td>Wii</td>\n",
       "      <td>Nintendo</td>\n",
       "      <td>Nintendo EAD</td>\n",
       "      <td>N/A</td>\n",
       "      <td>7.7</td>\n",
       "      <td>N/A</td>\n",
       "      <td>82.86m</td>\n",
       "      <td>N/A</td>\n",
       "      <td>N/A</td>\n",
       "      <td>N/A</td>\n",
       "      <td>N/A</td>\n",
       "      <td>N/A</td>\n",
       "      <td>19th Nov 06</td>\n",
       "      <td>N/A</td>\n",
       "    </tr>\n",
       "    <tr>\n",
       "      <th>1</th>\n",
       "      <td>2</td>\n",
       "      <td>Super Mario Bros.</td>\n",
       "      <td></td>\n",
       "      <td>NES</td>\n",
       "      <td>Nintendo</td>\n",
       "      <td>Nintendo EAD</td>\n",
       "      <td>N/A</td>\n",
       "      <td>10.0</td>\n",
       "      <td>8.2</td>\n",
       "      <td>40.24m</td>\n",
       "      <td>N/A</td>\n",
       "      <td>N/A</td>\n",
       "      <td>N/A</td>\n",
       "      <td>N/A</td>\n",
       "      <td>N/A</td>\n",
       "      <td>18th Oct 85</td>\n",
       "      <td>N/A</td>\n",
       "    </tr>\n",
       "    <tr>\n",
       "      <th>2</th>\n",
       "      <td>3</td>\n",
       "      <td>Mario Kart Wii</td>\n",
       "      <td></td>\n",
       "      <td>Wii</td>\n",
       "      <td>Nintendo</td>\n",
       "      <td>Nintendo EAD</td>\n",
       "      <td>8.7</td>\n",
       "      <td>8.2</td>\n",
       "      <td>9.1</td>\n",
       "      <td>37.14m</td>\n",
       "      <td>N/A</td>\n",
       "      <td>N/A</td>\n",
       "      <td>N/A</td>\n",
       "      <td>N/A</td>\n",
       "      <td>N/A</td>\n",
       "      <td>27th Apr 08</td>\n",
       "      <td>11th Apr 18</td>\n",
       "    </tr>\n",
       "    <tr>\n",
       "      <th>3</th>\n",
       "      <td>4</td>\n",
       "      <td>PlayerUnknown's Battlegrounds</td>\n",
       "      <td></td>\n",
       "      <td>PC</td>\n",
       "      <td>PUBG Corporation</td>\n",
       "      <td>PUBG Corporation</td>\n",
       "      <td>N/A</td>\n",
       "      <td>N/A</td>\n",
       "      <td>N/A</td>\n",
       "      <td>36.60m</td>\n",
       "      <td>N/A</td>\n",
       "      <td>N/A</td>\n",
       "      <td>N/A</td>\n",
       "      <td>N/A</td>\n",
       "      <td>N/A</td>\n",
       "      <td>21st Dec 17</td>\n",
       "      <td>13th Nov 18</td>\n",
       "    </tr>\n",
       "    <tr>\n",
       "      <th>4</th>\n",
       "      <td>5</td>\n",
       "      <td>Wii Sports Resort</td>\n",
       "      <td></td>\n",
       "      <td>Wii</td>\n",
       "      <td>Nintendo</td>\n",
       "      <td>Nintendo EAD</td>\n",
       "      <td>8.8</td>\n",
       "      <td>8.0</td>\n",
       "      <td>8.8</td>\n",
       "      <td>33.09m</td>\n",
       "      <td>N/A</td>\n",
       "      <td>N/A</td>\n",
       "      <td>N/A</td>\n",
       "      <td>N/A</td>\n",
       "      <td>N/A</td>\n",
       "      <td>26th Jul 09</td>\n",
       "      <td>N/A</td>\n",
       "    </tr>\n",
       "  </tbody>\n",
       "</table>\n",
       "</div>"
      ],
      "text/plain": [
       "  position                           game blank console           publisher  \\\n",
       "0        1                     Wii Sports           Wii          Nintendo     \n",
       "1        2              Super Mario Bros.           NES          Nintendo     \n",
       "2        3                 Mario Kart Wii           Wii          Nintendo     \n",
       "3        4  PlayerUnknown's Battlegrounds            PC  PUBG Corporation     \n",
       "4        5              Wii Sports Resort           Wii          Nintendo     \n",
       "\n",
       "            developer vgchart_score critic_score user_score total_shipped  \\\n",
       "0      Nintendo EAD           N/A          7.7        N/A          82.86m   \n",
       "1      Nintendo EAD           N/A         10.0        8.2          40.24m   \n",
       "2      Nintendo EAD           8.7          8.2        9.1          37.14m   \n",
       "3  PUBG Corporation           N/A          N/A        N/A          36.60m   \n",
       "4      Nintendo EAD           8.8          8.0        8.8          33.09m   \n",
       "\n",
       "  total_sales na_sales pal_sales japan_sales other_sales   release_date  \\\n",
       "0         N/A      N/A       N/A         N/A         N/A  19th Nov 06     \n",
       "1         N/A      N/A       N/A         N/A         N/A  18th Oct 85     \n",
       "2         N/A      N/A       N/A         N/A         N/A  27th Apr 08     \n",
       "3         N/A      N/A       N/A         N/A         N/A  21st Dec 17     \n",
       "4         N/A      N/A       N/A         N/A         N/A  26th Jul 09     \n",
       "\n",
       "   last_update  \n",
       "0          N/A  \n",
       "1          N/A  \n",
       "2  11th Apr 18  \n",
       "3  13th Nov 18  \n",
       "4          N/A  "
      ]
     },
     "execution_count": 23,
     "metadata": {},
     "output_type": "execute_result"
    }
   ],
   "source": [
    "# Verify that correct data is in table\n",
    "df.head()"
   ]
  },
  {
   "cell_type": "code",
   "execution_count": 24,
   "metadata": {},
   "outputs": [
    {
     "data": {
      "text/plain": [
       "(10000, 17)"
      ]
     },
     "execution_count": 24,
     "metadata": {},
     "output_type": "execute_result"
    }
   ],
   "source": [
    "df.shape"
   ]
  },
  {
   "cell_type": "code",
   "execution_count": 25,
   "metadata": {},
   "outputs": [
    {
     "data": {
      "text/html": [
       "<div>\n",
       "<style scoped>\n",
       "    .dataframe tbody tr th:only-of-type {\n",
       "        vertical-align: middle;\n",
       "    }\n",
       "\n",
       "    .dataframe tbody tr th {\n",
       "        vertical-align: top;\n",
       "    }\n",
       "\n",
       "    .dataframe thead th {\n",
       "        text-align: right;\n",
       "    }\n",
       "</style>\n",
       "<table border=\"1\" class=\"dataframe\">\n",
       "  <thead>\n",
       "    <tr style=\"text-align: right;\">\n",
       "      <th></th>\n",
       "      <th>position</th>\n",
       "      <th>game</th>\n",
       "      <th>blank</th>\n",
       "      <th>console</th>\n",
       "      <th>publisher</th>\n",
       "      <th>developer</th>\n",
       "      <th>vgchart_score</th>\n",
       "      <th>critic_score</th>\n",
       "      <th>user_score</th>\n",
       "      <th>total_shipped</th>\n",
       "      <th>total_sales</th>\n",
       "      <th>na_sales</th>\n",
       "      <th>pal_sales</th>\n",
       "      <th>japan_sales</th>\n",
       "      <th>other_sales</th>\n",
       "      <th>release_date</th>\n",
       "      <th>last_update</th>\n",
       "    </tr>\n",
       "  </thead>\n",
       "  <tbody>\n",
       "    <tr>\n",
       "      <th>9995</th>\n",
       "      <td>9996</td>\n",
       "      <td>Black &amp; Bruised</td>\n",
       "      <td></td>\n",
       "      <td>PS2</td>\n",
       "      <td>Majesco</td>\n",
       "      <td>Digital Fiction</td>\n",
       "      <td>N/A</td>\n",
       "      <td>N/A</td>\n",
       "      <td>N/A</td>\n",
       "      <td>N/A</td>\n",
       "      <td>0.16m</td>\n",
       "      <td>0.08m</td>\n",
       "      <td>0.06m</td>\n",
       "      <td>N/A</td>\n",
       "      <td>0.02m</td>\n",
       "      <td>26th Jan 03</td>\n",
       "      <td>N/A</td>\n",
       "    </tr>\n",
       "    <tr>\n",
       "      <th>9996</th>\n",
       "      <td>9997</td>\n",
       "      <td>Naruto: Ultimate Ninja Heroes 2 - The Phantom ...</td>\n",
       "      <td></td>\n",
       "      <td>PSP</td>\n",
       "      <td>Namco Bandai</td>\n",
       "      <td>CyberConnect2</td>\n",
       "      <td>N/A</td>\n",
       "      <td>6.2</td>\n",
       "      <td>N/A</td>\n",
       "      <td>N/A</td>\n",
       "      <td>0.16m</td>\n",
       "      <td>0.14m</td>\n",
       "      <td>0.00m</td>\n",
       "      <td>N/A</td>\n",
       "      <td>0.01m</td>\n",
       "      <td>24th Jun 08</td>\n",
       "      <td>N/A</td>\n",
       "    </tr>\n",
       "    <tr>\n",
       "      <th>9997</th>\n",
       "      <td>9998</td>\n",
       "      <td>Take A Break's: Puzzle Master</td>\n",
       "      <td></td>\n",
       "      <td>DS</td>\n",
       "      <td>Ubisoft</td>\n",
       "      <td>Ubisoft</td>\n",
       "      <td>N/A</td>\n",
       "      <td>N/A</td>\n",
       "      <td>N/A</td>\n",
       "      <td>N/A</td>\n",
       "      <td>0.16m</td>\n",
       "      <td>N/A</td>\n",
       "      <td>0.15m</td>\n",
       "      <td>N/A</td>\n",
       "      <td>0.01m</td>\n",
       "      <td>13th Nov 09</td>\n",
       "      <td>N/A</td>\n",
       "    </tr>\n",
       "    <tr>\n",
       "      <th>9998</th>\n",
       "      <td>9999</td>\n",
       "      <td>Spyro: Shadow Legacy</td>\n",
       "      <td></td>\n",
       "      <td>DS</td>\n",
       "      <td>Vivendi Games</td>\n",
       "      <td>Amaze Entertainment</td>\n",
       "      <td>N/A</td>\n",
       "      <td>N/A</td>\n",
       "      <td>N/A</td>\n",
       "      <td>N/A</td>\n",
       "      <td>0.16m</td>\n",
       "      <td>0.14m</td>\n",
       "      <td>0.01m</td>\n",
       "      <td>N/A</td>\n",
       "      <td>0.01m</td>\n",
       "      <td>18th Oct 05</td>\n",
       "      <td>N/A</td>\n",
       "    </tr>\n",
       "    <tr>\n",
       "      <th>9999</th>\n",
       "      <td>10000</td>\n",
       "      <td>Blitz: The League</td>\n",
       "      <td></td>\n",
       "      <td>X360</td>\n",
       "      <td>Midway Games</td>\n",
       "      <td>Midway Games</td>\n",
       "      <td>N/A</td>\n",
       "      <td>6.5</td>\n",
       "      <td>N/A</td>\n",
       "      <td>N/A</td>\n",
       "      <td>0.16m</td>\n",
       "      <td>0.15m</td>\n",
       "      <td>0.00m</td>\n",
       "      <td>N/A</td>\n",
       "      <td>0.01m</td>\n",
       "      <td>13th Nov 06</td>\n",
       "      <td>N/A</td>\n",
       "    </tr>\n",
       "  </tbody>\n",
       "</table>\n",
       "</div>"
      ],
      "text/plain": [
       "     position                                               game blank  \\\n",
       "9995     9996                                    Black & Bruised         \n",
       "9996     9997  Naruto: Ultimate Ninja Heroes 2 - The Phantom ...         \n",
       "9997     9998                      Take A Break's: Puzzle Master         \n",
       "9998     9999                               Spyro: Shadow Legacy         \n",
       "9999    10000                                  Blitz: The League         \n",
       "\n",
       "     console        publisher              developer vgchart_score  \\\n",
       "9995     PS2        Majesco        Digital Fiction           N/A     \n",
       "9996     PSP   Namco Bandai          CyberConnect2           N/A     \n",
       "9997      DS        Ubisoft                Ubisoft           N/A     \n",
       "9998      DS  Vivendi Games    Amaze Entertainment           N/A     \n",
       "9999    X360   Midway Games           Midway Games           N/A     \n",
       "\n",
       "     critic_score user_score total_shipped total_sales na_sales pal_sales  \\\n",
       "9995        N/A        N/A             N/A       0.16m    0.08m     0.06m   \n",
       "9996        6.2        N/A             N/A       0.16m    0.14m     0.00m   \n",
       "9997        N/A        N/A             N/A       0.16m      N/A     0.15m   \n",
       "9998        N/A        N/A             N/A       0.16m    0.14m     0.01m   \n",
       "9999        6.5        N/A             N/A       0.16m    0.15m     0.00m   \n",
       "\n",
       "     japan_sales other_sales   release_date last_update  \n",
       "9995         N/A       0.02m  26th Jan 03           N/A  \n",
       "9996         N/A       0.01m  24th Jun 08           N/A  \n",
       "9997         N/A       0.01m  13th Nov 09           N/A  \n",
       "9998         N/A       0.01m  18th Oct 05           N/A  \n",
       "9999         N/A       0.01m  13th Nov 06           N/A  "
      ]
     },
     "execution_count": 25,
     "metadata": {},
     "output_type": "execute_result"
    }
   ],
   "source": [
    "df.tail()"
   ]
  },
  {
   "cell_type": "code",
   "execution_count": null,
   "metadata": {},
   "outputs": [],
   "source": []
  }
 ],
 "metadata": {
  "kernelspec": {
   "display_name": "Python 3",
   "language": "python",
   "name": "python3"
  },
  "language_info": {
   "codemirror_mode": {
    "name": "ipython",
    "version": 3
   },
   "file_extension": ".py",
   "mimetype": "text/x-python",
   "name": "python",
   "nbconvert_exporter": "python",
   "pygments_lexer": "ipython3",
   "version": "3.7.3"
  }
 },
 "nbformat": 4,
 "nbformat_minor": 2
}
