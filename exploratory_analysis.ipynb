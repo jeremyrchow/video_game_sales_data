{
 "cells": [
  {
   "cell_type": "markdown",
   "metadata": {},
   "source": [
    "# Exploratory Data Analysis of VGChartz.com Video Game Sales Data"
   ]
  },
  {
   "cell_type": "markdown",
   "metadata": {},
   "source": [
    "## Features to look into:\n",
    "- Proximity of release date to holiday\n",
    "- Day of week of release date\n",
    "- price of console\n",
    "- price of game\n",
    "- whether developer is in top 5 or not\n",
    "- location of developer\n",
    "- number of years the game has been released\n",
    "## Things to note/do\n",
    "- make sure to remove data of games that were included with console ie. WII SPORTS"
   ]
  },
  {
   "cell_type": "code",
   "execution_count": 1,
   "metadata": {},
   "outputs": [],
   "source": [
    "# if needed: pip install requests or conda install requests\n",
    "import requests\n",
    "from bs4 import BeautifulSoup\n",
    "import re\n",
    "import lxml.html as lh\n",
    "import pandas as pd"
   ]
  },
  {
   "cell_type": "code",
   "execution_count": 111,
   "metadata": {},
   "outputs": [
    {
     "data": {
      "text/plain": [
       "200"
      ]
     },
     "execution_count": 111,
     "metadata": {},
     "output_type": "execute_result"
    }
   ],
   "source": [
    "# Ping one page of search results in VGChartz.com\n",
    "first_page_url_200 = 'http://www.vgchartz.com/games/games.php?page=1&results=200&name=&console=&keyword=&publisher=&genre=&order=Sales&ownership=Both&boxart=Both&banner=Both&showdeleted=&region=All&goty_year=&developer=&direction=DESC&showtotalsales=1&shownasales=1&showpalsales=1&showjapansales=1&showothersales=1&showpublisher=1&showdeveloper=1&showreleasedate=1&showlastupdate=1&showvgchartzscore=1&showcriticscore=1&showuserscore=1&showshipped=1&alphasort=&showmultiplat=No'\n",
    "last_page_url_200 = 'http://www.vgchartz.com/games/games.php?page=279&results=200&name=&console=&keyword=&publisher=&genre=&order=Sales&ownership=Both&boxart=Both&banner=Both&showdeleted=&region=All&goty_year=&developer=&direction=DESC&showtotalsales=1&shownasales=1&showpalsales=1&showjapansales=1&showothersales=1&showpublisher=1&showdeveloper=1&showreleasedate=1&showlastupdate=1&showvgchartzscore=1&showcriticscore=1&showuserscore=1&showshipped=1&alphasort=&showmultiplat=No'\n",
    "first_page_url_5000 = 'http://www.vgchartz.com/games/games.php?page=1&results=5000&name=&console=&keyword=&publisher=&genre=&order=Sales&ownership=Both&boxart=Both&banner=Both&showdeleted=&region=All&goty_year=&developer=&direction=DESC&showtotalsales=1&shownasales=1&showpalsales=1&showjapansales=1&showothersales=1&showpublisher=1&showdeveloper=1&showreleasedate=1&showlastupdate=1&showvgchartzscore=1&showcriticscore=1&showuserscore=1&showshipped=1&alphasort=&showmultiplat=No'\n",
    "\n",
    "\n",
    "url=first_page_url_5000\n",
    "response = requests.get(url)\n",
    "\n",
    "### Check the Status\n",
    "response.status_code # status code = 200 => OK"
   ]
  },
  {
   "cell_type": "code",
   "execution_count": 112,
   "metadata": {},
   "outputs": [],
   "source": [
    "#Store the contents of the website under doc\n",
    "page=response.text\n",
    "soup = BeautifulSoup(page, \"lxml\")\n",
    "doc = lh.fromstring(response.content)"
   ]
  },
  {
   "cell_type": "code",
   "execution_count": 113,
   "metadata": {},
   "outputs": [],
   "source": [
    "# Selects the table with all the data in it on HTML using xpath\n",
    "tr_elements = doc.xpath('//*[@id=\"generalBody\"]/table')[0]\n"
   ]
  },
  {
   "cell_type": "code",
   "execution_count": 114,
   "metadata": {},
   "outputs": [
    {
     "data": {
      "text/plain": [
       "[2, 1, 16, 17, 17, 17, 17, 17, 17, 17, 17, 17, 17, 17, 17]"
      ]
     },
     "execution_count": 114,
     "metadata": {},
     "output_type": "execute_result"
    }
   ],
   "source": [
    "# Check where the table begins, it appears to be on index 2\n",
    "[len(T) for T in tr_elements[:15]]"
   ]
  },
  {
   "cell_type": "code",
   "execution_count": 115,
   "metadata": {
    "scrolled": false
   },
   "outputs": [
    {
     "data": {
      "text/plain": [
       "5003"
      ]
     },
     "execution_count": 115,
     "metadata": {},
     "output_type": "execute_result"
    }
   ],
   "source": [
    "# Verify we selected the table with the correct number of rows\n",
    "len(tr_elements.xpath(\"./tr\"))"
   ]
  },
  {
   "cell_type": "code",
   "execution_count": 116,
   "metadata": {},
   "outputs": [],
   "source": [
    "# Find the names of games from the links\n",
    "names_list = list()\n",
    "for row in tr_elements.xpath('.//tr'):\n",
    "    for td in row.xpath('.//td'):\n",
    "        if not td.find('a') is None:\n",
    "            names_list.append(td.find('a').text.strip()) "
   ]
  },
  {
   "cell_type": "code",
   "execution_count": 117,
   "metadata": {},
   "outputs": [],
   "source": [
    "# Parse non-image and non-URL info from the data table to a pandas DataFrame\n",
    "row_dict={}\n",
    "df=pd.DataFrame()\n",
    "row_list= list()\n",
    "for counter,row in enumerate(tr_elements.xpath(\".//tr\")):\n",
    "    if counter > 2:\n",
    "        row_list=[td.text for td in row.xpath(\".//td\")]\n",
    "        row_dict[counter] = row_list\n",
    "# Test finding elements\n",
    "\n",
    "df=pd.DataFrame.from_dict(row_dict).transpose()\n",
    "df.columns = ['position','game','blank','console','publisher','developer','vgchart_score',\\\n",
    "             'critic_score','user_score','total_shipped','total_sales',\\\n",
    "              'na_sales','pal_sales','japan_sales','other_sales',\\\n",
    "              'release_date','last_update']"
   ]
  },
  {
   "cell_type": "code",
   "execution_count": 118,
   "metadata": {},
   "outputs": [],
   "source": [
    "# Console tags are stored as images, so we find the image tag and record its 'alt' value as text\n",
    "consoles = list()\n",
    "for img in soup.find_all('img'):\n",
    "    if 'images/consoles'in img['src']:\n",
    "        console_tag = (img['src'][17:-6])\n",
    "        consoles.append(img['alt'])\n"
   ]
  },
  {
   "cell_type": "code",
   "execution_count": 119,
   "metadata": {},
   "outputs": [],
   "source": [
    "# Correct the console and game columns using scraped values\n",
    "df=df.reset_index().drop(columns = ['index','blank'])\n",
    "df['console'] = consoles\n",
    "df['game'] = names_list"
   ]
  },
  {
   "cell_type": "code",
   "execution_count": 120,
   "metadata": {},
   "outputs": [
    {
     "data": {
      "text/html": [
       "<div>\n",
       "<style scoped>\n",
       "    .dataframe tbody tr th:only-of-type {\n",
       "        vertical-align: middle;\n",
       "    }\n",
       "\n",
       "    .dataframe tbody tr th {\n",
       "        vertical-align: top;\n",
       "    }\n",
       "\n",
       "    .dataframe thead th {\n",
       "        text-align: right;\n",
       "    }\n",
       "</style>\n",
       "<table border=\"1\" class=\"dataframe\">\n",
       "  <thead>\n",
       "    <tr style=\"text-align: right;\">\n",
       "      <th></th>\n",
       "      <th>position</th>\n",
       "      <th>game</th>\n",
       "      <th>console</th>\n",
       "      <th>publisher</th>\n",
       "      <th>developer</th>\n",
       "      <th>vgchart_score</th>\n",
       "      <th>critic_score</th>\n",
       "      <th>user_score</th>\n",
       "      <th>total_shipped</th>\n",
       "      <th>total_sales</th>\n",
       "      <th>na_sales</th>\n",
       "      <th>pal_sales</th>\n",
       "      <th>japan_sales</th>\n",
       "      <th>other_sales</th>\n",
       "      <th>release_date</th>\n",
       "      <th>last_update</th>\n",
       "    </tr>\n",
       "  </thead>\n",
       "  <tbody>\n",
       "    <tr>\n",
       "      <th>0</th>\n",
       "      <td>1</td>\n",
       "      <td>Wii Sports</td>\n",
       "      <td>Wii</td>\n",
       "      <td>Nintendo</td>\n",
       "      <td>Nintendo EAD</td>\n",
       "      <td>N/A</td>\n",
       "      <td>7.7</td>\n",
       "      <td>N/A</td>\n",
       "      <td>82.86m</td>\n",
       "      <td>N/A</td>\n",
       "      <td>N/A</td>\n",
       "      <td>N/A</td>\n",
       "      <td>N/A</td>\n",
       "      <td>N/A</td>\n",
       "      <td>19th Nov 06</td>\n",
       "      <td>N/A</td>\n",
       "    </tr>\n",
       "    <tr>\n",
       "      <th>1</th>\n",
       "      <td>2</td>\n",
       "      <td>Super Mario Bros.</td>\n",
       "      <td>NES</td>\n",
       "      <td>Nintendo</td>\n",
       "      <td>Nintendo EAD</td>\n",
       "      <td>N/A</td>\n",
       "      <td>10.0</td>\n",
       "      <td>8.2</td>\n",
       "      <td>40.24m</td>\n",
       "      <td>N/A</td>\n",
       "      <td>N/A</td>\n",
       "      <td>N/A</td>\n",
       "      <td>N/A</td>\n",
       "      <td>N/A</td>\n",
       "      <td>18th Oct 85</td>\n",
       "      <td>N/A</td>\n",
       "    </tr>\n",
       "    <tr>\n",
       "      <th>2</th>\n",
       "      <td>3</td>\n",
       "      <td>Mario Kart Wii</td>\n",
       "      <td>Wii</td>\n",
       "      <td>Nintendo</td>\n",
       "      <td>Nintendo EAD</td>\n",
       "      <td>8.7</td>\n",
       "      <td>8.2</td>\n",
       "      <td>9.1</td>\n",
       "      <td>37.14m</td>\n",
       "      <td>N/A</td>\n",
       "      <td>N/A</td>\n",
       "      <td>N/A</td>\n",
       "      <td>N/A</td>\n",
       "      <td>N/A</td>\n",
       "      <td>27th Apr 08</td>\n",
       "      <td>11th Apr 18</td>\n",
       "    </tr>\n",
       "    <tr>\n",
       "      <th>3</th>\n",
       "      <td>4</td>\n",
       "      <td>PlayerUnknown's Battlegrounds</td>\n",
       "      <td>PC</td>\n",
       "      <td>PUBG Corporation</td>\n",
       "      <td>PUBG Corporation</td>\n",
       "      <td>N/A</td>\n",
       "      <td>N/A</td>\n",
       "      <td>N/A</td>\n",
       "      <td>36.60m</td>\n",
       "      <td>N/A</td>\n",
       "      <td>N/A</td>\n",
       "      <td>N/A</td>\n",
       "      <td>N/A</td>\n",
       "      <td>N/A</td>\n",
       "      <td>21st Dec 17</td>\n",
       "      <td>13th Nov 18</td>\n",
       "    </tr>\n",
       "    <tr>\n",
       "      <th>4</th>\n",
       "      <td>5</td>\n",
       "      <td>Wii Sports Resort</td>\n",
       "      <td>Wii</td>\n",
       "      <td>Nintendo</td>\n",
       "      <td>Nintendo EAD</td>\n",
       "      <td>8.8</td>\n",
       "      <td>8.0</td>\n",
       "      <td>8.8</td>\n",
       "      <td>33.09m</td>\n",
       "      <td>N/A</td>\n",
       "      <td>N/A</td>\n",
       "      <td>N/A</td>\n",
       "      <td>N/A</td>\n",
       "      <td>N/A</td>\n",
       "      <td>26th Jul 09</td>\n",
       "      <td>N/A</td>\n",
       "    </tr>\n",
       "  </tbody>\n",
       "</table>\n",
       "</div>"
      ],
      "text/plain": [
       "  position                           game console           publisher  \\\n",
       "0        1                     Wii Sports     Wii          Nintendo     \n",
       "1        2              Super Mario Bros.     NES          Nintendo     \n",
       "2        3                 Mario Kart Wii     Wii          Nintendo     \n",
       "3        4  PlayerUnknown's Battlegrounds      PC  PUBG Corporation     \n",
       "4        5              Wii Sports Resort     Wii          Nintendo     \n",
       "\n",
       "            developer vgchart_score critic_score user_score total_shipped  \\\n",
       "0      Nintendo EAD           N/A          7.7        N/A          82.86m   \n",
       "1      Nintendo EAD           N/A         10.0        8.2          40.24m   \n",
       "2      Nintendo EAD           8.7          8.2        9.1          37.14m   \n",
       "3  PUBG Corporation           N/A          N/A        N/A          36.60m   \n",
       "4      Nintendo EAD           8.8          8.0        8.8          33.09m   \n",
       "\n",
       "  total_sales na_sales pal_sales japan_sales other_sales   release_date  \\\n",
       "0         N/A      N/A       N/A         N/A         N/A  19th Nov 06     \n",
       "1         N/A      N/A       N/A         N/A         N/A  18th Oct 85     \n",
       "2         N/A      N/A       N/A         N/A         N/A  27th Apr 08     \n",
       "3         N/A      N/A       N/A         N/A         N/A  21st Dec 17     \n",
       "4         N/A      N/A       N/A         N/A         N/A  26th Jul 09     \n",
       "\n",
       "   last_update  \n",
       "0          N/A  \n",
       "1          N/A  \n",
       "2  11th Apr 18  \n",
       "3  13th Nov 18  \n",
       "4          N/A  "
      ]
     },
     "execution_count": 120,
     "metadata": {},
     "output_type": "execute_result"
    }
   ],
   "source": [
    "# Verify that correct data is in table\n",
    "df.head()"
   ]
  },
  {
   "cell_type": "code",
   "execution_count": 121,
   "metadata": {},
   "outputs": [
    {
     "data": {
      "text/plain": [
       "(5000, 16)"
      ]
     },
     "execution_count": 121,
     "metadata": {},
     "output_type": "execute_result"
    }
   ],
   "source": [
    "df.shape"
   ]
  },
  {
   "cell_type": "code",
   "execution_count": 122,
   "metadata": {},
   "outputs": [
    {
     "data": {
      "text/html": [
       "<div>\n",
       "<style scoped>\n",
       "    .dataframe tbody tr th:only-of-type {\n",
       "        vertical-align: middle;\n",
       "    }\n",
       "\n",
       "    .dataframe tbody tr th {\n",
       "        vertical-align: top;\n",
       "    }\n",
       "\n",
       "    .dataframe thead th {\n",
       "        text-align: right;\n",
       "    }\n",
       "</style>\n",
       "<table border=\"1\" class=\"dataframe\">\n",
       "  <thead>\n",
       "    <tr style=\"text-align: right;\">\n",
       "      <th></th>\n",
       "      <th>position</th>\n",
       "      <th>game</th>\n",
       "      <th>console</th>\n",
       "      <th>publisher</th>\n",
       "      <th>developer</th>\n",
       "      <th>vgchart_score</th>\n",
       "      <th>critic_score</th>\n",
       "      <th>user_score</th>\n",
       "      <th>total_shipped</th>\n",
       "      <th>total_sales</th>\n",
       "      <th>na_sales</th>\n",
       "      <th>pal_sales</th>\n",
       "      <th>japan_sales</th>\n",
       "      <th>other_sales</th>\n",
       "      <th>release_date</th>\n",
       "      <th>last_update</th>\n",
       "    </tr>\n",
       "  </thead>\n",
       "  <tbody>\n",
       "    <tr>\n",
       "      <th>4995</th>\n",
       "      <td>4996</td>\n",
       "      <td>Just Dance 4</td>\n",
       "      <td>PS3</td>\n",
       "      <td>Ubisoft</td>\n",
       "      <td>Ubisoft</td>\n",
       "      <td>N/A</td>\n",
       "      <td>N/A</td>\n",
       "      <td>N/A</td>\n",
       "      <td>N/A</td>\n",
       "      <td>0.45m</td>\n",
       "      <td>0.26m</td>\n",
       "      <td>0.11m</td>\n",
       "      <td>N/A</td>\n",
       "      <td>0.08m</td>\n",
       "      <td>09th Oct 12</td>\n",
       "      <td>31st Jan 18</td>\n",
       "    </tr>\n",
       "    <tr>\n",
       "      <th>4996</th>\n",
       "      <td>4997</td>\n",
       "      <td>Pirates of the Caribbean: At World's End</td>\n",
       "      <td>Wii</td>\n",
       "      <td>Disney Interactive Studios</td>\n",
       "      <td>Eurocom Entertainment Software</td>\n",
       "      <td>N/A</td>\n",
       "      <td>N/A</td>\n",
       "      <td>N/A</td>\n",
       "      <td>N/A</td>\n",
       "      <td>0.45m</td>\n",
       "      <td>0.39m</td>\n",
       "      <td>0.02m</td>\n",
       "      <td>0.01m</td>\n",
       "      <td>0.04m</td>\n",
       "      <td>22nd May 07</td>\n",
       "      <td>N/A</td>\n",
       "    </tr>\n",
       "    <tr>\n",
       "      <th>4997</th>\n",
       "      <td>4998</td>\n",
       "      <td>Brunswick Pro Bowling</td>\n",
       "      <td>X360</td>\n",
       "      <td>Crave Entertainment</td>\n",
       "      <td>FarSight Studios</td>\n",
       "      <td>N/A</td>\n",
       "      <td>N/A</td>\n",
       "      <td>N/A</td>\n",
       "      <td>N/A</td>\n",
       "      <td>0.45m</td>\n",
       "      <td>0.38m</td>\n",
       "      <td>0.04m</td>\n",
       "      <td>N/A</td>\n",
       "      <td>0.03m</td>\n",
       "      <td>07th Dec 10</td>\n",
       "      <td>N/A</td>\n",
       "    </tr>\n",
       "    <tr>\n",
       "      <th>4998</th>\n",
       "      <td>4999</td>\n",
       "      <td>Style Savvy: Styling Star</td>\n",
       "      <td>3DS</td>\n",
       "      <td>Nintendo</td>\n",
       "      <td>syn Sophia</td>\n",
       "      <td>N/A</td>\n",
       "      <td>8.5</td>\n",
       "      <td>N/A</td>\n",
       "      <td>N/A</td>\n",
       "      <td>0.45m</td>\n",
       "      <td>N/A</td>\n",
       "      <td>0.29m</td>\n",
       "      <td>0.14m</td>\n",
       "      <td>0.02m</td>\n",
       "      <td>25th Dec 17</td>\n",
       "      <td>05th Sep 18</td>\n",
       "    </tr>\n",
       "    <tr>\n",
       "      <th>4999</th>\n",
       "      <td>5000</td>\n",
       "      <td>Tekken Advance</td>\n",
       "      <td>GBA</td>\n",
       "      <td>Namco</td>\n",
       "      <td>Eighting / Raizing</td>\n",
       "      <td>N/A</td>\n",
       "      <td>8.3</td>\n",
       "      <td>N/A</td>\n",
       "      <td>N/A</td>\n",
       "      <td>0.45m</td>\n",
       "      <td>0.32m</td>\n",
       "      <td>0.12m</td>\n",
       "      <td>N/A</td>\n",
       "      <td>0.01m</td>\n",
       "      <td>28th Jan 02</td>\n",
       "      <td>N/A</td>\n",
       "    </tr>\n",
       "  </tbody>\n",
       "</table>\n",
       "</div>"
      ],
      "text/plain": [
       "     position                                      game console  \\\n",
       "4995     4996                              Just Dance 4     PS3   \n",
       "4996     4997  Pirates of the Caribbean: At World's End     Wii   \n",
       "4997     4998                     Brunswick Pro Bowling    X360   \n",
       "4998     4999                 Style Savvy: Styling Star     3DS   \n",
       "4999     5000                            Tekken Advance     GBA   \n",
       "\n",
       "                         publisher                         developer  \\\n",
       "4995                     Ubisoft                           Ubisoft     \n",
       "4996  Disney Interactive Studios    Eurocom Entertainment Software     \n",
       "4997         Crave Entertainment                  FarSight Studios     \n",
       "4998                    Nintendo                        syn Sophia     \n",
       "4999                       Namco                Eighting / Raizing     \n",
       "\n",
       "     vgchart_score critic_score user_score total_shipped total_sales na_sales  \\\n",
       "4995         N/A          N/A        N/A             N/A       0.45m    0.26m   \n",
       "4996         N/A          N/A        N/A             N/A       0.45m    0.39m   \n",
       "4997         N/A          N/A        N/A             N/A       0.45m    0.38m   \n",
       "4998         N/A          8.5        N/A             N/A       0.45m      N/A   \n",
       "4999         N/A          8.3        N/A             N/A       0.45m    0.32m   \n",
       "\n",
       "     pal_sales japan_sales other_sales   release_date  last_update  \n",
       "4995     0.11m         N/A       0.08m  09th Oct 12    31st Jan 18  \n",
       "4996     0.02m       0.01m       0.04m  22nd May 07            N/A  \n",
       "4997     0.04m         N/A       0.03m  07th Dec 10            N/A  \n",
       "4998     0.29m       0.14m       0.02m  25th Dec 17    05th Sep 18  \n",
       "4999     0.12m         N/A       0.01m  28th Jan 02            N/A  "
      ]
     },
     "execution_count": 122,
     "metadata": {},
     "output_type": "execute_result"
    }
   ],
   "source": [
    "df.tail()"
   ]
  },
  {
   "cell_type": "code",
   "execution_count": 126,
   "metadata": {},
   "outputs": [],
   "source": [
    "# Write a function that takes in a VGChartz URL and gives us all the data in their video game database\n",
    "def scrape_vgchartz_videogame_db_page(url):\n",
    "    \n",
    "    response = requests.get(url)\n",
    "\n",
    "    ### Check the Status\n",
    "    assert(response.status_code == 200),\" Website not OK \" # status code = 200 => OK\n",
    "    \n",
    "    #Store the contents of the website under doc\n",
    "    page=response.text\n",
    "    soup = BeautifulSoup(page, \"lxml\")\n",
    "    doc = lh.fromstring(response.content)\n",
    "    \n",
    "    # Selects the table with all the data in it on HTML using xpath\n",
    "    target_table_path = doc.xpath('//*[@id=\"generalBody\"]/table')[0]\n",
    "\n",
    "    # Find column values that won't be scraped correctly with .text option\n",
    "    names_list = find_names_column(target_table_path)\n",
    "    consoles = find_console_tags(soup)\n",
    "    \n",
    "    # Parse non-image and non-URL info from the data table to a pandas DataFrame\n",
    "    row_dict={}\n",
    "    df=pd.DataFrame()\n",
    "    row_list= list()\n",
    "    for counter,row in enumerate(target_table_path.xpath(\".//tr\")):\n",
    "        if counter > 2: # To skip header rows\n",
    "            row_list=[td.text for td in row.xpath(\".//td\")]\n",
    "            row_dict[counter] = row_list\n",
    "\n",
    "    df=pd.DataFrame.from_dict(row_dict).transpose()\n",
    "    df.columns = ['position','game','blank','console','publisher','developer','vgchart_score',\\\n",
    "                 'critic_score','user_score','total_shipped','total_sales',\\\n",
    "                  'na_sales','pal_sales','japan_sales','other_sales',\\\n",
    "                  'release_date','last_update']\n",
    "    \n",
    "    # Correct the console and game columns using scraped values\n",
    "    \n",
    "    df=df.reset_index().drop(columns = ['index','blank'])\n",
    "    df['console'] = consoles\n",
    "    df['game'] = names_list\n",
    "    return df"
   ]
  },
  {
   "cell_type": "code",
   "execution_count": 124,
   "metadata": {},
   "outputs": [],
   "source": [
    "# Find the names of games from the links\n",
    "def find_names_column(table_path):\n",
    "    names_list = list()\n",
    "    for row in table_path.xpath('.//tr'):\n",
    "        for td in row.xpath('.//td'):\n",
    "            if not td.find('a') is None:\n",
    "                names_list.append(td.find('a').text.strip()) \n",
    "    return names_list"
   ]
  },
  {
   "cell_type": "code",
   "execution_count": 125,
   "metadata": {},
   "outputs": [],
   "source": [
    "def find_console_tags(soup):\n",
    "    # Console tags are stored as images, so we find the image tag and record its 'alt' value as text\n",
    "    consoles = list()\n",
    "    for img in soup.find_all('img'):\n",
    "        if 'images/consoles'in img['src']:\n",
    "            # Cut file path elements from string\n",
    "            console_tag = (img['src'][17:-6])\n",
    "            consoles.append(img['alt'])\n",
    "    return consoles\n"
   ]
  },
  {
   "cell_type": "code",
   "execution_count": 135,
   "metadata": {},
   "outputs": [],
   "source": [
    "# We can 'hack' the URL to display any number of results per page. I'll leave it as an argument.\n",
    "def scrape_all_vg_chartz_videogame_db(results_per_page):\n",
    "    df = pd.DataFrame()\n",
    "    current_page = 1\n",
    "    games_left = True\n",
    "    while games_left:\n",
    "        url = 'http://www.vgchartz.com/games/games.php?page=' + str(current_page) +\\\n",
    "        '&results=' + str(results_per_page) + '&name=&console=&keyword=&publisher=&genre=&order=Sales&ownership\\\n",
    "        =Both&boxart=Both&banner=Both&showdeleted=&region=All&goty_year=&developer=&direction\\\n",
    "        =DESC&showtotalsales=1&shownasales=1&showpalsales=1&showjapansales=1&showothersales=1&\\\n",
    "        showpublisher=1&showdeveloper=1&showreleasedate=1&showlastupdate=1&showvgchartzscore=1&\\\n",
    "        showcriticscore=1&showuserscore=1&showshipped=1&alphasort=&showmultiplat=No'\n",
    "        new_df = scrape_vgchartz_videogame_db_page(url)\n",
    "        df = df.append(new_df)\n",
    "\n",
    "        #REMOVE LATER, TEST CONDIITON\n",
    "      #  if current_page > 3:\n",
    "       #     games_left = False\n",
    "        print('Scraped page: ',current_page)\n",
    "        if new_df.shape[0] < results_per_page:\n",
    "            games_left = False\n",
    "        current_page +=1\n",
    "    print('Scraping done!')\n",
    "    print('Total rows parsed = ', df.shape[0])\n",
    "    return df.reset_index().drop(columns = 'index')"
   ]
  },
  {
   "cell_type": "code",
   "execution_count": 134,
   "metadata": {},
   "outputs": [
    {
     "name": "stdout",
     "output_type": "stream",
     "text": [
      "Scraped page:  1\n",
      "Scraped page:  2\n",
      "Scraped page:  3\n",
      "Scraped page:  4\n",
      "Scraped page:  5\n",
      "Scraped page:  6\n",
      "Scraping done!\n"
     ]
    }
   ],
   "source": [
    "df=scrape_all_vg_chartz_videogame_db(10000)"
   ]
  },
  {
   "cell_type": "code",
   "execution_count": 138,
   "metadata": {},
   "outputs": [],
   "source": [
    "df.to_pickle('./FullVGChartzDatabase.zip',compression = 'zip')"
   ]
  },
  {
   "cell_type": "code",
   "execution_count": 139,
   "metadata": {},
   "outputs": [
    {
     "name": "stdout",
     "output_type": "stream",
     "text": [
      "FullVGChartzDatabase.zip   exploratory_analysis.ipynb\r\n",
      "README.md\r\n"
     ]
    }
   ],
   "source": []
  },
  {
   "cell_type": "code",
   "execution_count": 140,
   "metadata": {},
   "outputs": [
    {
     "name": "stdout",
     "output_type": "stream",
     "text": [
      "total 2640\r\n",
      "-rw-r--r--  1 jchow  staff   1.3M Apr 11 16:46 FullVGChartzDatabase.zip\r\n",
      "-rw-r--r--  1 jchow  staff   130B Apr  9 15:51 README.md\r\n",
      "-rw-r--r--  1 jchow  staff    32K Apr 11 16:46 exploratory_analysis.ipynb\r\n"
     ]
    }
   ],
   "source": []
  },
  {
   "cell_type": "code",
   "execution_count": null,
   "metadata": {},
   "outputs": [],
   "source": []
  }
 ],
 "metadata": {
  "kernelspec": {
   "display_name": "Python 3",
   "language": "python",
   "name": "python3"
  },
  "language_info": {
   "codemirror_mode": {
    "name": "ipython",
    "version": 3
   },
   "file_extension": ".py",
   "mimetype": "text/x-python",
   "name": "python",
   "nbconvert_exporter": "python",
   "pygments_lexer": "ipython3",
   "version": "3.7.3"
  }
 },
 "nbformat": 4,
 "nbformat_minor": 2
}
