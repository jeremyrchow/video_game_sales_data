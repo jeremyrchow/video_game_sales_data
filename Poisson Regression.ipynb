{
 "cells": [
  {
   "cell_type": "markdown",
   "metadata": {},
   "source": [
    "# Poisson Regression on Video Game Sales Data"
   ]
  },
  {
   "cell_type": "code",
   "execution_count": 91,
   "metadata": {},
   "outputs": [],
   "source": [
    "import matplotlib.pyplot as plt\n",
    "import pandas as pd\n",
    "import numpy as np\n",
    "import seaborn as sns\n",
    "from dateutil import parser as ps\n",
    "import datetime as dt\n",
    "from workalendar.usa import UnitedStates\n",
    "from workalendar.asia import SouthKorea, China, Japan\n",
    "from sklearn.preprocessing import StandardScaler\n",
    "from sklearn.model_selection import train_test_split\n",
    "import statsmodels.discrete.discrete_model as smd\n",
    "import statsmodels.api as sm\n",
    "import statsmodels.formula.api as smf\n",
    "import patsy\n",
    "import scipy.stats as stats"
   ]
  },
  {
   "cell_type": "code",
   "execution_count": 92,
   "metadata": {
    "scrolled": false
   },
   "outputs": [
    {
     "data": {
      "image/png": "[encoded data removed]",
      "text/plain": [
       "<Figure size 432x288 with 1 Axes>"
      ]
     },
     "metadata": {
      "needs_background": "light"
     },
     "output_type": "display_data"
    }
   ],
   "source": [
    "df=pd.read_pickle('./df_with_features.zip',compression = 'zip')\n",
    "df_features = df.drop(columns = ['release_date','release_year','game','console','publisher'])\n",
    "\n",
    "# Selects first column on left as the targeted and all columns on right as features\n",
    "def patsy_string_from_df(df_features):\n",
    "    patsy_string = df_features.columns[0] + \" ~ \"\n",
    "    print('Predicted variable: ' + df_features.columns[0])\n",
    "    for title in df_features.columns[1:]:\n",
    "        patsy_string += title + \" + \"\n",
    "    #remove last plus and spaces from string\n",
    "    patsy_string=patsy_string[:-3]\n",
    "    print(patsy_string)\n",
    "    return patsy_string\n",
    "\n",
    "#Uses above patsy string to make OLS model\n",
    "def sm_OLS_model(df_features):\n",
    "    y, X = patsy.dmatrices(patsy_string_from_df(df_features), data=df_features, return_type=\"dataframe\")\n",
    "    model = sm.OLS(y, X)\n",
    "    # Fit your model to your training set\n",
    "    fit = model.fit()\n",
    "\n",
    "    # Print summary statistics of the model's performance\n",
    "    return fit\n",
    "# Drop outliers above 95%\n",
    "outlier_cutoff = np.percentile(df_features['total_shipped_in_mil'].values,95)\n",
    "df_features =\\\n",
    "df_features.loc[df_features['total_shipped_in_mil'] < outlier_cutoff]\n",
    "\n",
    "\n",
    "# It looks like release date proximity to holidays doesn't really have an impact on total sales. Let's drop those\n",
    "df_features.drop(columns = ['near_sk_holiday','near_jp_holiday','near_cn_holiday'],inplace = True)\n",
    "plt.hist(df_features['total_shipped_in_mil'],bins = 50);"
   ]
  },
  {
   "cell_type": "code",
   "execution_count": 93,
   "metadata": {},
   "outputs": [
    {
     "data": {
      "text/html": [
       "<div>\n",
       "<style scoped>\n",
       "    .dataframe tbody tr th:only-of-type {\n",
       "        vertical-align: middle;\n",
       "    }\n",
       "\n",
       "    .dataframe tbody tr th {\n",
       "        vertical-align: top;\n",
       "    }\n",
       "\n",
       "    .dataframe thead th {\n",
       "        text-align: right;\n",
       "    }\n",
       "</style>\n",
       "<table border=\"1\" class=\"dataframe\">\n",
       "  <thead>\n",
       "    <tr style=\"text-align: right;\">\n",
       "      <th></th>\n",
       "      <th>total_shipped_in_mil</th>\n",
       "      <th>average_rating</th>\n",
       "      <th>near_us_holiday</th>\n",
       "      <th>years_since_release</th>\n",
       "      <th>top_10_publisher</th>\n",
       "    </tr>\n",
       "  </thead>\n",
       "  <tbody>\n",
       "    <tr>\n",
       "      <th>12973</th>\n",
       "      <td>0.1</td>\n",
       "      <td>8.0</td>\n",
       "      <td>False</td>\n",
       "      <td>8.978082</td>\n",
       "      <td>False</td>\n",
       "    </tr>\n",
       "    <tr>\n",
       "      <th>13019</th>\n",
       "      <td>0.1</td>\n",
       "      <td>5.7</td>\n",
       "      <td>False</td>\n",
       "      <td>8.920548</td>\n",
       "      <td>False</td>\n",
       "    </tr>\n",
       "    <tr>\n",
       "      <th>13103</th>\n",
       "      <td>0.1</td>\n",
       "      <td>3.5</td>\n",
       "      <td>False</td>\n",
       "      <td>8.882192</td>\n",
       "      <td>False</td>\n",
       "    </tr>\n",
       "    <tr>\n",
       "      <th>13123</th>\n",
       "      <td>0.1</td>\n",
       "      <td>6.8</td>\n",
       "      <td>False</td>\n",
       "      <td>8.863014</td>\n",
       "      <td>False</td>\n",
       "    </tr>\n",
       "    <tr>\n",
       "      <th>9572</th>\n",
       "      <td>0.1</td>\n",
       "      <td>8.2</td>\n",
       "      <td>False</td>\n",
       "      <td>10.854795</td>\n",
       "      <td>False</td>\n",
       "    </tr>\n",
       "  </tbody>\n",
       "</table>\n",
       "</div>"
      ],
      "text/plain": [
       "       total_shipped_in_mil  average_rating  near_us_holiday  \\\n",
       "12973                   0.1             8.0            False   \n",
       "13019                   0.1             5.7            False   \n",
       "13103                   0.1             3.5            False   \n",
       "13123                   0.1             6.8            False   \n",
       "9572                    0.1             8.2            False   \n",
       "\n",
       "       years_since_release  top_10_publisher  \n",
       "12973             8.978082             False  \n",
       "13019             8.920548             False  \n",
       "13103             8.882192             False  \n",
       "13123             8.863014             False  \n",
       "9572             10.854795             False  "
      ]
     },
     "execution_count": 93,
     "metadata": {},
     "output_type": "execute_result"
    }
   ],
   "source": [
    "df_features.head()"
   ]
  },
  {
   "cell_type": "code",
   "execution_count": null,
   "metadata": {},
   "outputs": [],
   "source": []
  },
  {
   "cell_type": "code",
   "execution_count": 95,
   "metadata": {},
   "outputs": [],
   "source": [
    "#Not log'd\n",
    "\n",
    "\n",
    "y = df_features['total_shipped_in_mil'].values\n",
    "# Can't use log'd data because poisson requires integer predictions?\n",
    "#y = df_features.iloc[:,-1].values\n",
    "X = df_features.iloc[:,1:]\n",
    "y\n",
    "\n",
    "# Cast variables to correct datatypes\n",
    "y = y.astype(float)\n",
    "X = X.astype(float)\n",
    "\n",
    "X_train, X_val, y_train, y_val = \\\n",
    "    train_test_split(X, y, test_size=0.2, random_state=42)\n",
    "\n"
   ]
  },
  {
   "cell_type": "code",
   "execution_count": 96,
   "metadata": {},
   "outputs": [
    {
     "data": {
      "text/html": [
       "<table class=\"simpletable\">\n",
       "<caption>Generalized Linear Model Regression Results</caption>\n",
       "<tr>\n",
       "  <th>Dep. Variable:</th>          <td>y</td>        <th>  No. Observations:  </th>  <td>  3039</td>  \n",
       "</tr>\n",
       "<tr>\n",
       "  <th>Model:</th>                 <td>GLM</td>       <th>  Df Residuals:      </th>  <td>  3035</td>  \n",
       "</tr>\n",
       "<tr>\n",
       "  <th>Model Family:</th>        <td>Poisson</td>     <th>  Df Model:          </th>  <td>     3</td>  \n",
       "</tr>\n",
       "<tr>\n",
       "  <th>Link Function:</th>         <td>log</td>       <th>  Scale:             </th> <td>  1.0000</td> \n",
       "</tr>\n",
       "<tr>\n",
       "  <th>Method:</th>               <td>IRLS</td>       <th>  Log-Likelihood:    </th> <td> -3700.9</td> \n",
       "</tr>\n",
       "<tr>\n",
       "  <th>Date:</th>           <td>Thu, 18 Apr 2019</td> <th>  Deviance:          </th> <td>  2507.6</td> \n",
       "</tr>\n",
       "<tr>\n",
       "  <th>Time:</th>               <td>10:27:41</td>     <th>  Pearson chi2:      </th> <td>3.09e+03</td> \n",
       "</tr>\n",
       "<tr>\n",
       "  <th>No. Iterations:</th>         <td>5</td>        <th>  Covariance Type:   </th> <td>nonrobust</td>\n",
       "</tr>\n",
       "</table>\n",
       "<table class=\"simpletable\">\n",
       "<tr>\n",
       "           <td></td>              <th>coef</th>     <th>std err</th>      <th>z</th>      <th>P>|z|</th>  <th>[0.025</th>    <th>0.975]</th>  \n",
       "</tr>\n",
       "<tr>\n",
       "  <th>average_rating</th>      <td>    0.0125</td> <td>    0.006</td> <td>    2.058</td> <td> 0.040</td> <td>    0.001</td> <td>    0.024</td>\n",
       "</tr>\n",
       "<tr>\n",
       "  <th>near_us_holiday</th>     <td>    0.0304</td> <td>    0.071</td> <td>    0.427</td> <td> 0.669</td> <td>   -0.109</td> <td>    0.170</td>\n",
       "</tr>\n",
       "<tr>\n",
       "  <th>years_since_release</th> <td>   -0.0239</td> <td>    0.004</td> <td>   -6.671</td> <td> 0.000</td> <td>   -0.031</td> <td>   -0.017</td>\n",
       "</tr>\n",
       "<tr>\n",
       "  <th>top_10_publisher</th>    <td>    0.2767</td> <td>    0.037</td> <td>    7.445</td> <td> 0.000</td> <td>    0.204</td> <td>    0.350</td>\n",
       "</tr>\n",
       "</table>"
      ],
      "text/plain": [
       "<class 'statsmodels.iolib.summary.Summary'>\n",
       "\"\"\"\n",
       "                 Generalized Linear Model Regression Results                  \n",
       "==============================================================================\n",
       "Dep. Variable:                      y   No. Observations:                 3039\n",
       "Model:                            GLM   Df Residuals:                     3035\n",
       "Model Family:                 Poisson   Df Model:                            3\n",
       "Link Function:                    log   Scale:                          1.0000\n",
       "Method:                          IRLS   Log-Likelihood:                -3700.9\n",
       "Date:                Thu, 18 Apr 2019   Deviance:                       2507.6\n",
       "Time:                        10:27:41   Pearson chi2:                 3.09e+03\n",
       "No. Iterations:                     5   Covariance Type:             nonrobust\n",
       "=======================================================================================\n",
       "                          coef    std err          z      P>|z|      [0.025      0.975]\n",
       "---------------------------------------------------------------------------------------\n",
       "average_rating          0.0125      0.006      2.058      0.040       0.001       0.024\n",
       "near_us_holiday         0.0304      0.071      0.427      0.669      -0.109       0.170\n",
       "years_since_release    -0.0239      0.004     -6.671      0.000      -0.031      -0.017\n",
       "top_10_publisher        0.2767      0.037      7.445      0.000       0.204       0.350\n",
       "=======================================================================================\n",
       "\"\"\""
      ]
     },
     "execution_count": 96,
     "metadata": {},
     "output_type": "execute_result"
    }
   ],
   "source": [
    "# Fit GLM in statsmodels using Poisson link function\n",
    "poisson_model = sm.GLM(y_train, X_train, family = sm.families.Poisson())\n",
    "#poisson_model = sm.GLM(y, X, family = sm.families.NegativeBinomial())\n",
    "\n",
    "poisson_result = poisson_model.fit()\n",
    "poisson_result.summary()"
   ]
  },
  {
   "cell_type": "code",
   "execution_count": 99,
   "metadata": {},
   "outputs": [
    {
     "data": {
      "text/plain": [
       "<matplotlib.collections.PathCollection at 0x1c28a7af98>"
      ]
     },
     "execution_count": 99,
     "metadata": {},
     "output_type": "execute_result"
    },
    {
     "data": {
      "image/png": "[encoded data removed]",
      "text/plain": [
       "<Figure size 432x288 with 1 Axes>"
      ]
     },
     "metadata": {
      "needs_background": "light"
     },
     "output_type": "display_data"
    }
   ],
   "source": [
    "plt.scatter(yval,1/yval)"
   ]
  },
  {
   "cell_type": "code",
   "execution_count": 97,
   "metadata": {},
   "outputs": [
    {
     "name": "stdout",
     "output_type": "stream",
     "text": [
      "RMSE / max_val:  0.1958\n",
      "MAE / max_val:  0.1451\n",
      "RMSE:  0.984901376794213\n",
      "MAE:  0.7299443504211536\n"
     ]
    },
    {
     "data": {
      "image/png": "[encoded data removed]",
      "text/plain": [
       "<Figure size 864x576 with 1 Axes>"
      ]
     },
     "metadata": {
      "needs_background": "light"
     },
     "output_type": "display_data"
    }
   ],
   "source": [
    "# Calculate root mean squared error\n",
    "ypred = poisson_result.predict(X_train)\n",
    "yval = y_train\n",
    "residuals_squared = list()\n",
    "residuals_abs = list()\n",
    "residuals = list()\n",
    "for i in range(0,len(yval)):\n",
    "    residuals.append(ypred.values[i]-yval[i])\n",
    "    residuals_squared.append((ypred.values[i]-yval[i])**2)\n",
    "    residuals_abs.append(abs(ypred.values[i] - yval [i]))\n",
    "\n",
    "rmse = np.sqrt(sum(residuals_squared)/len(yval))\n",
    "mae = sum(residuals_abs)/len(yval)\n",
    "max_val = df_features['total_shipped_in_mil'].max()\n",
    "print(\"RMSE / max_val: \" ,(rmse/max_val).round(4))\n",
    "print(\"MAE / max_val: \",(mae/max_val).round(4))\n",
    "print(\"RMSE: \",rmse)\n",
    "print(\"MAE: \", mae)\n",
    "plt.figure(figsize=(12,8))\n",
    "plt.scatter(yval,residuals)\n",
    "plt.xlabel(\"Sales in millions\")\n",
    "plt.ylabel(\"Residuals in millions\")\n",
    "plt.title('Residuals across predicted variable');"
   ]
  }
 ],
 "metadata": {
  "kernelspec": {
   "display_name": "Python 3",
   "language": "python",
   "name": "python3"
  },
  "language_info": {
   "codemirror_mode": {
    "name": "ipython",
    "version": 3
   },
   "file_extension": ".py",
   "mimetype": "text/x-python",
   "name": "python",
   "nbconvert_exporter": "python",
   "pygments_lexer": "ipython3",
   "version": "3.7.3"
  }
 },
 "nbformat": 4,
 "nbformat_minor": 2
}
